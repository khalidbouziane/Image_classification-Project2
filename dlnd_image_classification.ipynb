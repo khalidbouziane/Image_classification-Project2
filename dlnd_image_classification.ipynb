{
 "cells": [
  {
   "cell_type": "markdown",
   "metadata": {
    "collapsed": true,
    "deletable": true,
    "editable": true
   },
   "source": [
    "# Image Classification\n",
    "In this project, you'll classify images from the [CIFAR-10 dataset](https://www.cs.toronto.edu/~kriz/cifar.html).  The dataset consists of airplanes, dogs, cats, and other objects. You'll preprocess the images, then train a convolutional neural network on all the samples. The images need to be normalized and the labels need to be one-hot encoded.  You'll get to apply what you learned and build a convolutional, max pooling, dropout, and fully connected layers.  At the end, you'll get to see your neural network's predictions on the sample images.\n",
    "## Get the Data\n",
    "Run the following cell to download the [CIFAR-10 dataset for python](https://www.cs.toronto.edu/~kriz/cifar-10-python.tar.gz)."
   ]
  },
  {
   "cell_type": "code",
   "execution_count": 18,
   "metadata": {
    "collapsed": false,
    "deletable": true,
    "editable": true
   },
   "outputs": [
    {
     "name": "stdout",
     "output_type": "stream",
     "text": [
      "All files found!\n"
     ]
    }
   ],
   "source": [
    "\"\"\"\n",
    "DON'T MODIFY ANYTHING IN THIS CELL THAT IS BELOW THIS LINE\n",
    "\"\"\"\n",
    "from mlxtend.preprocessing import one_hot\n",
    "from urllib.request import urlretrieve\n",
    "from os.path import isfile, isdir\n",
    "from tqdm import tqdm\n",
    "import problem_unittests as tests\n",
    "import tarfile\n",
    "import sklearn\n",
    "\n",
    "cifar10_dataset_folder_path = 'cifar-10-batches-py'\n",
    "\n",
    "class DLProgress(tqdm):\n",
    "    last_block = 0\n",
    "\n",
    "    def hook(self, block_num=1, block_size=1, total_size=None):\n",
    "        self.total = total_size\n",
    "        self.update((block_num - self.last_block) * block_size)\n",
    "        self.last_block = block_num\n",
    "\n",
    "if not isfile('cifar-10-python.tar.gz'):\n",
    "    with DLProgress(unit='B', unit_scale=True, miniters=1, desc='CIFAR-10 Dataset') as pbar:\n",
    "        urlretrieve(\n",
    "            'https://www.cs.toronto.edu/~kriz/cifar-10-python.tar.gz',\n",
    "            'cifar-10-python.tar.gz',\n",
    "            pbar.hook)\n",
    "\n",
    "if not isdir(cifar10_dataset_folder_path):\n",
    "    with tarfile.open('cifar-10-python.tar.gz') as tar:\n",
    "        tar.extractall()\n",
    "        tar.close()\n",
    "\n",
    "\n",
    "tests.test_folder_path(cifar10_dataset_folder_path)"
   ]
  },
  {
   "cell_type": "markdown",
   "metadata": {
    "deletable": true,
    "editable": true
   },
   "source": [
    "## Explore the Data\n",
    "The dataset is broken into batches to prevent your machine from running out of memory.  The CIFAR-10 dataset consists of 5 batches, named `data_batch_1`, `data_batch_2`, etc.. Each batch contains the labels and images that are one of the following:\n",
    "* airplane\n",
    "* automobile\n",
    "* bird\n",
    "* cat\n",
    "* deer\n",
    "* dog\n",
    "* frog\n",
    "* horse\n",
    "* ship\n",
    "* truck\n",
    "\n",
    "Understanding a dataset is part of making predictions on the data.  Play around with the code cell below by changing the `batch_id` and `sample_id`. The `batch_id` is the id for a batch (1-5). The `sample_id` is the id for a image and label pair in the batch.\n",
    "\n",
    "Ask yourself \"What are all possible labels?\", \"What is the range of values for the image data?\", \"Are the labels in order or random?\".  Answers to questions like these will help you preprocess the data and end up with better predictions."
   ]
  },
  {
   "cell_type": "code",
   "execution_count": 19,
   "metadata": {
    "collapsed": false,
    "deletable": true,
    "editable": true
   },
   "outputs": [
    {
     "name": "stdout",
     "output_type": "stream",
     "text": [
      "\n",
      "Stats of batch 2:\n",
      "Samples: 10000\n",
      "Label Counts: {0: 984, 1: 1007, 2: 1010, 3: 995, 4: 1010, 5: 988, 6: 1008, 7: 1026, 8: 987, 9: 985}\n",
      "First 20 Labels: [1, 6, 6, 8, 8, 3, 4, 6, 0, 6, 0, 3, 6, 6, 5, 4, 8, 3, 2, 6]\n",
      "\n",
      "Example of Image 4:\n",
      "Image - Min Value: 0 Max Value: 255\n",
      "Image - Shape: (32, 32, 3)\n",
      "Label - Label Id: 8 Name: ship\n"
     ]
    },
    {
     "data": {
      "image/png": "[encoded data removed]",
      "text/plain": [
       "<matplotlib.figure.Figure at 0x2045fd75cf8>"
      ]
     },
     "metadata": {
      "image/png": {
       "height": 250,
       "width": 253
      }
     },
     "output_type": "display_data"
    }
   ],
   "source": [
    "%matplotlib inline\n",
    "%config InlineBackend.figure_format = 'retina'\n",
    "\n",
    "import helper\n",
    "import numpy as np\n",
    "\n",
    "# Explore the dataset\n",
    "batch_id = 2\n",
    "sample_id = 4\n",
    "helper.display_stats(cifar10_dataset_folder_path, batch_id, sample_id)"
   ]
  },
  {
   "cell_type": "markdown",
   "metadata": {
    "deletable": true,
    "editable": true
   },
   "source": [
    "## Implement Preprocess Functions\n",
    "### Normalize\n",
    "In the cell below, implement the `normalize` function to take in image data, `x`, and return it as a normalized Numpy array. The values should be in the range of 0 to 1, inclusive.  The return object should be the same shape as `x`."
   ]
  },
  {
   "cell_type": "code",
   "execution_count": 166,
   "metadata": {
    "collapsed": false,
    "deletable": true,
    "editable": true
   },
   "outputs": [
    {
     "name": "stdout",
     "output_type": "stream",
     "text": [
      "Tests Passed\n"
     ]
    }
   ],
   "source": [
    "def normalize(x):\n",
    "    \"\"\"\n",
    "    Normalize a list of sample image data in the range of 0 to 1\n",
    "    : x: List of image data.  The image shape is (32, 32, 3)\n",
    "    : return: Numpy array of normalize data\n",
    "    \"\"\"\n",
    "    # TODO: Implement Function\n",
    "    return np.array(x/255)\n",
    "\n",
    "\n",
    "\"\"\"\n",
    "DON'T MODIFY ANYTHING IN THIS CELL THAT IS BELOW THIS LINE\n",
    "\"\"\"\n",
    "tests.test_normalize(normalize)"
   ]
  },
  {
   "cell_type": "markdown",
   "metadata": {
    "deletable": true,
    "editable": true
   },
   "source": [
    "### One-hot encode\n",
    "Just like the previous code cell, you'll be implementing a function for preprocessing.  This time, you'll implement the `one_hot_encode` function. The input, `x`, are a list of labels.  Implement the function to return the list of labels as One-Hot encoded Numpy array.  The possible values for labels are 0 to 9. The one-hot encoding function should return the same encoding for each value between each call to `one_hot_encode`.  Make sure to save the map of encodings outside the function.\n",
    "\n",
    "Hint: Don't reinvent the wheel."
   ]
  },
  {
   "cell_type": "code",
   "execution_count": 167,
   "metadata": {
    "collapsed": false,
    "deletable": true,
    "editable": true
   },
   "outputs": [
    {
     "name": "stdout",
     "output_type": "stream",
     "text": [
      "Tests Passed\n"
     ]
    }
   ],
   "source": [
    "def one_hot_encode(x):\n",
    "    \"\"\"\n",
    "    One hot encode a list of sample labels. Return a one-hot encoded vector for each label.\n",
    "    : x: List of sample Labels\n",
    "    : return: Numpy array of one-hot encoded labels\n",
    "    \"\"\"\n",
    "    # TODO: Implement Function\n",
    "     \n",
    "    return one_hot(x)\n",
    "\n",
    "\n",
    "\"\"\"\n",
    "DON'T MODIFY ANYTHING IN THIS CELL THAT IS BELOW THIS LINE\n",
    "\"\"\"\n",
    "tests.test_one_hot_encode(one_hot_encode)"
   ]
  },
  {
   "cell_type": "markdown",
   "metadata": {
    "deletable": true,
    "editable": true
   },
   "source": [
    "### Randomize Data\n",
    "As you saw from exploring the data above, the order of the samples are randomized.  It doesn't hurt to randomize it again, but you don't need to for this dataset."
   ]
  },
  {
   "cell_type": "markdown",
   "metadata": {
    "deletable": true,
    "editable": true
   },
   "source": [
    "## Preprocess all the data and save it\n",
    "Running the code cell below will preprocess all the CIFAR-10 data and save it to file. The code below also uses 10% of the training data for validation."
   ]
  },
  {
   "cell_type": "code",
   "execution_count": 168,
   "metadata": {
    "collapsed": false,
    "deletable": true,
    "editable": true
   },
   "outputs": [],
   "source": [
    "\"\"\"\n",
    "DON'T MODIFY ANYTHING IN THIS CELL\n",
    "\"\"\"\n",
    "# Preprocess Training, Validation, and Testing Data\n",
    "helper.preprocess_and_save_data(cifar10_dataset_folder_path, normalize, one_hot_encode)"
   ]
  },
  {
   "cell_type": "markdown",
   "metadata": {
    "deletable": true,
    "editable": true
   },
   "source": [
    "# Check Point\n",
    "This is your first checkpoint.  If you ever decide to come back to this notebook or have to restart the notebook, you can start from here.  The preprocessed data has been saved to disk."
   ]
  },
  {
   "cell_type": "code",
   "execution_count": 169,
   "metadata": {
    "collapsed": true,
    "deletable": true,
    "editable": true
   },
   "outputs": [],
   "source": [
    "\"\"\"\n",
    "DON'T MODIFY ANYTHING IN THIS CELL\n",
    "\"\"\"\n",
    "import pickle\n",
    "import problem_unittests as tests\n",
    "import helper\n",
    "\n",
    "# Load the Preprocessed Validation data\n",
    "valid_features, valid_labels = pickle.load(open('preprocess_validation.p', mode='rb'))"
   ]
  },
  {
   "cell_type": "markdown",
   "metadata": {
    "deletable": true,
    "editable": true
   },
   "source": [
    "## Build the network\n",
    "For the neural network, you'll build each layer into a function.  Most of the code you've seen has been outside of functions. To test your code more thoroughly, we require that you put each layer in a function.  This allows us to give you better feedback and test for simple mistakes using our unittests before you submit your project.\n",
    "\n",
    "If you're finding it hard to dedicate enough time for this course a week, we've provided a small shortcut to this part of the project. In the next couple of problems, you'll have the option to use [TensorFlow Layers](https://www.tensorflow.org/api_docs/python/tf/layers) or [TensorFlow Layers (contrib)](https://www.tensorflow.org/api_guides/python/contrib.layers) to build each layer, except \"Convolutional & Max Pooling\" layer.  TF Layers is similar to Keras's and TFLearn's abstraction to layers, so it's easy to pickup.\n",
    "\n",
    "If you would like to get the most of this course, try to solve all the problems without TF Layers.  Let's begin!\n",
    "### Input\n",
    "The neural network needs to read the image data, one-hot encoded labels, and dropout keep probability. Implement the following functions\n",
    "* Implement `neural_net_image_input`\n",
    " * Return a [TF Placeholder](https://www.tensorflow.org/api_docs/python/tf/placeholder)\n",
    " * Set the shape using `image_shape` with batch size set to `None`.\n",
    " * Name the TensorFlow placeholder \"x\" using the TensorFlow `name` parameter in the [TF Placeholder](https://www.tensorflow.org/api_docs/python/tf/placeholder).\n",
    "* Implement `neural_net_label_input`\n",
    " * Return a [TF Placeholder](https://www.tensorflow.org/api_docs/python/tf/placeholder)\n",
    " * Set the shape using `n_classes` with batch size set to `None`.\n",
    " * Name the TensorFlow placeholder \"y\" using the TensorFlow `name` parameter in the [TF Placeholder](https://www.tensorflow.org/api_docs/python/tf/placeholder).\n",
    "* Implement `neural_net_keep_prob_input`\n",
    " * Return a [TF Placeholder](https://www.tensorflow.org/api_docs/python/tf/placeholder) for dropout keep probability.\n",
    " * Name the TensorFlow placeholder \"keep_prob\" using the TensorFlow `name` parameter in the [TF Placeholder](https://www.tensorflow.org/api_docs/python/tf/placeholder).\n",
    "\n",
    "These names will be used at the end of the project to load your saved model.\n",
    "\n",
    "Note: `None` for shapes in TensorFlow allow for a dynamic size."
   ]
  },
  {
   "cell_type": "code",
   "execution_count": 170,
   "metadata": {
    "collapsed": false,
    "deletable": true,
    "editable": true
   },
   "outputs": [
    {
     "name": "stdout",
     "output_type": "stream",
     "text": [
      "Image Input Tests Passed.\n",
      "Label Input Tests Passed.\n",
      "Keep Prob Tests Passed.\n"
     ]
    }
   ],
   "source": [
    "import tensorflow as tf\n",
    "\n",
    "def neural_net_image_input(image_shape):\n",
    "    \"\"\"\n",
    "    Return a Tensor for a bach of image input\n",
    "    : image_shape: Shape of the images\n",
    "    : return: Tensor for image input.\n",
    "    \"\"\"\n",
    "    # TODO: Implement Function\n",
    "     \n",
    "    return tf.placeholder(tf.float32, [None,image_shape[0],image_shape[1],image_shape[2]],name=\"x\")\n",
    "     \n",
    "\n",
    "def neural_net_label_input(n_classes):\n",
    "    \"\"\"\n",
    "    Return a Tensor for a batch of label input\n",
    "    : n_classes: Number of classes\n",
    "    : return: Tensor for label input.\n",
    "    \"\"\"\n",
    "    # TODO: Implement Function\n",
    "    \n",
    "    return tf.placeholder(tf.float32,[None,n_classes],name=\"y\") \n",
    "    \n",
    "def neural_net_keep_prob_input():\n",
    "    \"\"\"\n",
    "    Return a Tensor for keep probability\n",
    "    : return: Tensor for keep probability.\n",
    "    \"\"\"\n",
    "    # TODO: Implement Function\n",
    "    \n",
    "    return  tf.placeholder(tf.float32,name=\"keep_prob\")\n",
    "    \n",
    "\"\"\"\n",
    "DON'T MODIFY ANYTHING IN THIS CELL THAT IS BELOW THIS LINE\n",
    "\"\"\"\n",
    "tf.reset_default_graph()\n",
    "tests.test_nn_image_inputs(neural_net_image_input)\n",
    "tests.test_nn_label_inputs(neural_net_label_input)\n",
    "tests.test_nn_keep_prob_inputs(neural_net_keep_prob_input)"
   ]
  },
  {
   "cell_type": "markdown",
   "metadata": {
    "deletable": true,
    "editable": true
   },
   "source": [
    "### Convolution and Max Pooling Layer\n",
    "Convolution layers have a lot of success with images. For this code cell, you should implement the function `conv2d_maxpool` to apply convolution then max pooling:\n",
    "* Create the weight and bias using `conv_ksize`, `conv_num_outputs` and the shape of `x_tensor`.\n",
    "* Apply a convolution to `x_tensor` using weight and `conv_strides`.\n",
    " * We recommend you use same padding, but you're welcome to use any padding.\n",
    "* Add bias\n",
    "* Add a nonlinear activation to the convolution.\n",
    "* Apply Max Pooling using `pool_ksize` and `pool_strides`.\n",
    " * We recommend you use same padding, but you're welcome to use any padding.\n",
    "\n",
    "Note: You **can't** use [TensorFlow Layers](https://www.tensorflow.org/api_docs/python/tf/layers) or [TensorFlow Layers (contrib)](https://www.tensorflow.org/api_guides/python/contrib.layers) for this layer.  You're free to use any TensorFlow package for all the other layers."
   ]
  },
  {
   "cell_type": "code",
   "execution_count": 171,
   "metadata": {
    "collapsed": false,
    "deletable": true,
    "editable": true
   },
   "outputs": [
    {
     "name": "stdout",
     "output_type": "stream",
     "text": [
      "Tests Passed\n"
     ]
    }
   ],
   "source": [
    "def conv2d_maxpool(x_tensor, conv_num_outputs, conv_ksize, conv_strides, pool_ksize, pool_strides):\n",
    "    \"\"\"\n",
    "    Apply convolution then max pooling to x_tensor\n",
    "    :param x_tensor: TensorFlow Tensor\n",
    "    :param conv_num_outputs: Number of outputs for the convolutional layer\n",
    "    :param conv_strides: Stride 2-D Tuple for convolution\n",
    "    :param pool_ksize: kernal size 2-D Tuple for pool\n",
    "    :param pool_strides: Stride 2-D Tuple for pool\n",
    "    : return: A tensor that represents convolution and max pooling of x_tensor\n",
    "    \"\"\"\n",
    "    # TODO: Implement Function\n",
    "    \n",
    "    W = tf.Variable(tf.truncated_normal([conv_ksize[0],\n",
    "                                     conv_ksize[1],\n",
    "                                     x_tensor.get_shape().as_list()[-1],\n",
    "                                     conv_num_outputs]))\n",
    "\n",
    "    b = tf.Variable(tf.zeros([conv_num_outputs]))\n",
    "\n",
    "    conv1 = tf.nn.conv2d(x_tensor, W,\n",
    "             strides=[1, conv_strides[0], conv_strides[1], 1],\n",
    "             padding='SAME')\n",
    "\n",
    "    conv1 = tf.nn.bias_add(conv1, b)\n",
    "\n",
    "    conv1 = tf.nn.relu(conv1)\n",
    "\n",
    "    max_pool_layer = tf.nn.max_pool(conv1, ksize=[1, pool_ksize[0], pool_ksize[1], 1],\n",
    "                      strides=[1, pool_strides[0], pool_strides[1], 1],\n",
    "                      padding='SAME')\n",
    "\n",
    "    return max_pool_layer\n",
    "                              \n",
    "\"\"\" \n",
    "DON'T MODIFY ANYTHING IN THIS CELL THAT IS BELOW THIS LINE\n",
    "\"\"\"\n",
    "tests.test_con_pool(conv2d_maxpool)"
   ]
  },
  {
   "cell_type": "markdown",
   "metadata": {
    "deletable": true,
    "editable": true
   },
   "source": [
    "### Flatten Layer\n",
    "Implement the `flatten` function to change the dimension of `x_tensor` from a 4-D tensor to a 2-D tensor.  The output should be the shape (*Batch Size*, *Flattened Image Size*). You can use [TensorFlow Layers](https://www.tensorflow.org/api_docs/python/tf/layers) or [TensorFlow Layers (contrib)](https://www.tensorflow.org/api_guides/python/contrib.layers) for this layer."
   ]
  },
  {
   "cell_type": "code",
   "execution_count": 172,
   "metadata": {
    "collapsed": false,
    "deletable": true,
    "editable": true
   },
   "outputs": [
    {
     "name": "stdout",
     "output_type": "stream",
     "text": [
      "Tests Passed\n"
     ]
    }
   ],
   "source": [
    "def flatten(x_tensor):\n",
    "    \"\"\"\n",
    "    Flatten x_tensor to (Batch Size, Flattened Image Size)\n",
    "    : x_tensor: A tensor of size (Batch Size, ...), where ... are the image dimensions.\n",
    "    : return: A tensor of size (Batch Size, Flattened Image Size).\n",
    "    \"\"\"\n",
    "    # TODO: Implement Function\n",
    "    return tf.contrib.layers.flatten(x_tensor)\n",
    "\n",
    "\n",
    "\"\"\"\n",
    "DON'T MODIFY ANYTHING IN THIS CELL THAT IS BELOW THIS LINE\n",
    "\"\"\"\n",
    "tests.test_flatten(flatten)"
   ]
  },
  {
   "cell_type": "markdown",
   "metadata": {
    "deletable": true,
    "editable": true
   },
   "source": [
    "### Fully-Connected Layer\n",
    "Implement the `fully_conn` function to apply a fully connected layer to `x_tensor` with the shape (*Batch Size*, *num_outputs*). You can use [TensorFlow Layers](https://www.tensorflow.org/api_docs/python/tf/layers) or [TensorFlow Layers (contrib)](https://www.tensorflow.org/api_guides/python/contrib.layers) for this layer."
   ]
  },
  {
   "cell_type": "code",
   "execution_count": 173,
   "metadata": {
    "collapsed": false,
    "deletable": true,
    "editable": true
   },
   "outputs": [
    {
     "name": "stdout",
     "output_type": "stream",
     "text": [
      "Tests Passed\n"
     ]
    }
   ],
   "source": [
    "def fully_conn(x_tensor, num_outputs):\n",
    "    \"\"\"\n",
    "    Apply a fully connected layer to x_tensor using weight and bias\n",
    "    : x_tensor: A 2-D tensor where the first dimension is batch size.\n",
    "    : num_outputs: The number of output that the new tensor should be.\n",
    "    : return: A 2-D tensor where the second dimension is num_outputs.\n",
    "    \"\"\"\n",
    "    # TODO: Implement Function\n",
    "    data_size = x_tensor.get_shape().as_list()[1]\n",
    "    w = tf.Variable(tf.truncated_normal([data_size, num_outputs], stddev = 0.1 ))\n",
    "    b = tf.Variable(tf.zeros(num_outputs))\n",
    "     \n",
    "    return tf.nn.relu(tf.add(tf.matmul(x_tensor, w), b))\n",
    "   \n",
    "    \n",
    "    \n",
    "\"\"\"\n",
    "DON'T MODIFY ANYTHING IN THIS CELL THAT IS BELOW THIS LINE\n",
    "\"\"\"\n",
    "tests.test_fully_conn(fully_conn)"
   ]
  },
  {
   "cell_type": "markdown",
   "metadata": {
    "deletable": true,
    "editable": true
   },
   "source": [
    "### Output Layer\n",
    "Implement the `output` function to apply a fully connected layer to `x_tensor` with the shape (*Batch Size*, *num_outputs*). You can use [TensorFlow Layers](https://www.tensorflow.org/api_docs/python/tf/layers) or [TensorFlow Layers (contrib)](https://www.tensorflow.org/api_guides/python/contrib.layers) for this layer.\n",
    "\n",
    "Note: Activation, softmax, or cross entropy shouldn't be applied to this."
   ]
  },
  {
   "cell_type": "code",
   "execution_count": 174,
   "metadata": {
    "collapsed": false,
    "deletable": true,
    "editable": true
   },
   "outputs": [
    {
     "name": "stdout",
     "output_type": "stream",
     "text": [
      "Tests Passed\n"
     ]
    }
   ],
   "source": [
    "def output(x_tensor, num_outputs):\n",
    "    \"\"\"\n",
    "    Apply a output layer to x_tensor using weight and bias\n",
    "    : x_tensor: A 2-D tensor where the first dimension is batch size.\n",
    "    : num_outputs: The number of output that the new tensor should be.\n",
    "    : return: A 2-D tensor where the second dimension is num_outputs.\n",
    "    \"\"\"\n",
    "    # TODO: Implement Function\n",
    "    data_size = x_tensor.get_shape().as_list()[-1]\n",
    "    w = tf.Variable(tf.truncated_normal([data_size, num_outputs],stddev=0.1))\n",
    "    b = tf.Variable(tf.zeros(num_outputs)) \n",
    "    return tf.add(tf.matmul(x_tensor, w), b)\n",
    "\n",
    "\n",
    "\"\"\"\n",
    "DON'T MODIFY ANYTHING IN THIS CELL THAT IS BELOW THIS LINE\n",
    "\"\"\"\n",
    "tests.test_output(output)"
   ]
  },
  {
   "cell_type": "markdown",
   "metadata": {
    "deletable": true,
    "editable": true
   },
   "source": [
    "### Create Convolutional Model\n",
    "Implement the function `conv_net` to create a convolutional neural network model. The function takes in a batch of images, `x`, and outputs logits.  Use the layers you created above to create this model:\n",
    "\n",
    "* Apply 1, 2, or 3 Convolution and Max Pool layers\n",
    "* Apply a Flatten Layer\n",
    "* Apply 1, 2, or 3 Fully Connected Layers\n",
    "* Apply an Output Layer\n",
    "* Return the output\n",
    "* Apply [TensorFlow's Dropout](https://www.tensorflow.org/api_docs/python/tf/nn/dropout) to one or more layers in the model using `keep_prob`. "
   ]
  },
  {
   "cell_type": "code",
   "execution_count": 175,
   "metadata": {
    "collapsed": false,
    "deletable": true,
    "editable": true
   },
   "outputs": [
    {
     "name": "stdout",
     "output_type": "stream",
     "text": [
      "Neural Network Built!\n"
     ]
    }
   ],
   "source": [
    "def conv_net(x, keep_prob):\n",
    "    \"\"\"\n",
    "    Create a convolutional neural network model\n",
    "    : x: Placeholder tensor that holds image data.\n",
    "    : keep_prob: Placeholder tensor that hold dropout keep probability.\n",
    "    : return: Tensor that represents logits\n",
    "    \"\"\"\n",
    "    # TODO: Apply 1, 2, or 3 Convolution and Max Pool layers\n",
    "    #    Play around with different number of outputs, kernel size and stride\n",
    "    # Function Definition from Above:\n",
    "    #    conv2d_maxpool(x_tensor, conv_num_outputs, conv_ksize, conv_strides, pool_ksize, pool_strides)\n",
    "    x_tensor = x\n",
    "    conv_num_outputs = 28\n",
    "    conv_ksize = (2, 2)\n",
    "    conv_strides = (2, 2)\n",
    "    pool_ksize = (2, 2)\n",
    "    pool_strides = (2, 2)\n",
    "    conv = conv2d_maxpool(x_tensor, conv_num_outputs, conv_ksize, conv_strides, pool_ksize, pool_strides)\n",
    "\n",
    "    # TODO: Apply a Flatten Layer\n",
    "    # Function Definition from Above:\n",
    "    #   flatten(x_tensor)\n",
    "    flat = flatten(conv)\n",
    "\n",
    "    # TODO: Apply 1, 2, or 3 Fully Connected Layers\n",
    "    #    Play around with different number of outputs\n",
    "    # Function Definition from Above:\n",
    "    #   fully_conn(x_tensor, num_outputs)\n",
    "    num_outputs = 384\n",
    "    fc = fully_conn(flat,num_outputs)\n",
    "    fc = tf.nn.dropout(fc, keep_prob)\n",
    "    # TODO: Apply an Output Layer\n",
    "    #    Set this to the number of classes\n",
    "    # Function Definition from Above:\n",
    "    #   output(x_tensor, num_outputs)\n",
    "    num_outputs = 10\n",
    "    out = output(fc,num_outputs)\n",
    "    \n",
    "    # TODO: return output\n",
    "    return out\n",
    "\n",
    "\n",
    "\"\"\"\n",
    "DON'T MODIFY ANYTHING IN THIS CELL THAT IS BELOW THIS LINE\n",
    "\"\"\"\n",
    "\n",
    "##############################\n",
    "## Build the Neural Network ##\n",
    "##############################\n",
    "\n",
    "# Remove previous weights, bias, inputs, etc..\n",
    "tf.reset_default_graph()\n",
    "\n",
    "# Inputs\n",
    "x = neural_net_image_input((32, 32, 3))\n",
    "y = neural_net_label_input(10)\n",
    "keep_prob = neural_net_keep_prob_input()\n",
    "\n",
    "# Model\n",
    "logits = conv_net(x, keep_prob)\n",
    "\n",
    "# Name logits Tensor, so that is can be loaded from disk after training\n",
    "logits = tf.identity(logits, name='logits')\n",
    "\n",
    "# Loss and Optimizer\n",
    "cost = tf.reduce_mean(tf.nn.softmax_cross_entropy_with_logits(logits=logits, labels=y))\n",
    "optimizer = tf.train.AdamOptimizer().minimize(cost)\n",
    "\n",
    "# Accuracy\n",
    "correct_pred = tf.equal(tf.argmax(logits, 1), tf.argmax(y, 1))\n",
    "accuracy = tf.reduce_mean(tf.cast(correct_pred, tf.float32), name='accuracy')\n",
    "\n",
    "tests.test_conv_net(conv_net)"
   ]
  },
  {
   "cell_type": "markdown",
   "metadata": {
    "deletable": true,
    "editable": true
   },
   "source": [
    "## Train the Neural Network\n",
    "### Single Optimization\n",
    "Implement the function `train_neural_network` to do a single optimization.  The optimization should use `optimizer` to optimize in `session` with a `feed_dict` of the following:\n",
    "* `x` for image input\n",
    "* `y` for labels\n",
    "* `keep_prob` for keep probability for dropout\n",
    "\n",
    "This function will be called for each batch, so `tf.global_variables_initializer()` has already been called.\n",
    "\n",
    "Note: Nothing needs to be returned. This function is only optimizing the neural network."
   ]
  },
  {
   "cell_type": "code",
   "execution_count": 176,
   "metadata": {
    "collapsed": false,
    "deletable": true,
    "editable": true
   },
   "outputs": [
    {
     "name": "stdout",
     "output_type": "stream",
     "text": [
      "Tests Passed\n"
     ]
    }
   ],
   "source": [
    "def train_neural_network(session, optimizer, keep_probability,feature_batch,label_batch):\n",
    "    \"\"\"\n",
    "    Optimize the session on a batch of images and labels\n",
    "    : session: Current TensorFlow session\n",
    "    : optimizer: TensorFlow optimizer function\n",
    "    : keep_probability: keep probability\n",
    "    : feature_batch: Batch of Numpy image data\n",
    "    : label_batch: Batch of Numpy label data\n",
    "    \"\"\"\n",
    "    # TODO: Implement Function\n",
    "    \n",
    "    optimizer = session.run(optimizer, feed_dict={x:feature_batch ,\n",
    "                                   y:label_batch ,keep_prob:keep_probability })\n",
    "\n",
    "    pass\n",
    "\n",
    "\"\"\"\n",
    "DON'T MODIFY ANYTHING IN THIS CELL THAT IS BELOW THIS LINE\n",
    "\"\"\"\n",
    "tests.test_train_nn(train_neural_network)"
   ]
  },
  {
   "cell_type": "markdown",
   "metadata": {
    "deletable": true,
    "editable": true
   },
   "source": [
    "### Show Stats\n",
    "Implement the function `print_stats` to print loss and validation accuracy.  Use the global variables `valid_features` and `valid_labels` to calculate validation accuracy.  Use a keep probability of `1.0` to calculate the loss and validation accuracy."
   ]
  },
  {
   "cell_type": "code",
   "execution_count": 177,
   "metadata": {
    "collapsed": false,
    "deletable": true,
    "editable": true
   },
   "outputs": [],
   "source": [
    "def print_stats(session, feature_batch, label_batch, cost, accuracy):\n",
    "    \"\"\"\n",
    "    Print information about loss and validation accuracy\n",
    "    : session: Current TensorFlow session\n",
    "    : feature_batch: Batch of Numpy image data\n",
    "    : label_batch: Batch of Numpy label data\n",
    "    : cost: TensorFlow cost function\n",
    "    : accuracy: TensorFlow accuracy function\n",
    "    \"\"\"\n",
    "    # TODO: Implement Function\n",
    "    loss = session.run(cost,feed_dict={x:feature_batch ,\n",
    "                                   y:label_batch ,keep_prob :1.0 })\n",
    "    valid_acc = session.run(accuracy,feed_dict={x:valid_features ,\n",
    "                                   y:valid_labels ,keep_prob :1.0 })\n",
    "    print('loss at {}'.format(loss),'valid_acc at {}'.format(valid_acc))\n",
    "    pass"
   ]
  },
  {
   "cell_type": "markdown",
   "metadata": {
    "deletable": true,
    "editable": true
   },
   "source": [
    "### Hyperparameters\n",
    "Tune the following parameters:\n",
    "* Set `epochs` to the number of iterations until the network stops learning or start overfitting\n",
    "* Set `batch_size` to the highest number that your machine has memory for.  Most people set them to common sizes of memory:\n",
    " * 64\n",
    " * 128\n",
    " * 256\n",
    " * ...\n",
    "* Set `keep_probability` to the probability of keeping a node using dropout"
   ]
  },
  {
   "cell_type": "code",
   "execution_count": 178,
   "metadata": {
    "collapsed": true,
    "deletable": true,
    "editable": true
   },
   "outputs": [],
   "source": [
    "# TODO: Tune Parameters\n",
    "epochs = 100\n",
    "batch_size = 1024\n",
    "keep_probability = 0.75"
   ]
  },
  {
   "cell_type": "markdown",
   "metadata": {
    "deletable": true,
    "editable": true
   },
   "source": [
    "### Train on a Single CIFAR-10 Batch\n",
    "Instead of training the neural network on all the CIFAR-10 batches of data, let's use a single batch. This should save time while you iterate on the model to get a better accuracy.  Once the final validation accuracy is 50% or greater, run the model on all the data in the next section."
   ]
  },
  {
   "cell_type": "code",
   "execution_count": 179,
   "metadata": {
    "collapsed": false,
    "deletable": true,
    "editable": true
   },
   "outputs": [
    {
     "name": "stdout",
     "output_type": "stream",
     "text": [
      "Checking the Training on a Single Batch...\n",
      "Epoch  1, CIFAR-10 Batch 1:  loss at 4.032905101776123 valid_acc at 0.1454000025987625\n",
      "Epoch  2, CIFAR-10 Batch 1:  loss at 2.488481283187866 valid_acc at 0.1940000057220459\n",
      "Epoch  3, CIFAR-10 Batch 1:  loss at 2.138284921646118 valid_acc at 0.20280000567436218\n",
      "Epoch  4, CIFAR-10 Batch 1:  loss at 2.053905725479126 valid_acc at 0.26080000400543213\n",
      "Epoch  5, CIFAR-10 Batch 1:  loss at 1.9893690347671509 valid_acc at 0.27000001072883606\n",
      "Epoch  6, CIFAR-10 Batch 1:  loss at 1.9204938411712646 valid_acc at 0.30820000171661377\n",
      "Epoch  7, CIFAR-10 Batch 1:  loss at 1.8480037450790405 valid_acc at 0.32919999957084656\n",
      "Epoch  8, CIFAR-10 Batch 1:  loss at 1.7939996719360352 valid_acc at 0.3490000069141388\n",
      "Epoch  9, CIFAR-10 Batch 1:  loss at 1.7421207427978516 valid_acc at 0.3625999987125397\n",
      "Epoch 10, CIFAR-10 Batch 1:  loss at 1.6853359937667847 valid_acc at 0.38440001010894775\n",
      "Epoch 11, CIFAR-10 Batch 1:  loss at 1.6331409215927124 valid_acc at 0.39500001072883606\n",
      "Epoch 12, CIFAR-10 Batch 1:  loss at 1.5776402950286865 valid_acc at 0.40639999508857727\n",
      "Epoch 13, CIFAR-10 Batch 1:  loss at 1.543411374092102 valid_acc at 0.42260000109672546\n",
      "Epoch 14, CIFAR-10 Batch 1:  loss at 1.48804771900177 valid_acc at 0.4277999997138977\n",
      "Epoch 15, CIFAR-10 Batch 1:  loss at 1.4516336917877197 valid_acc at 0.4375999867916107\n",
      "Epoch 16, CIFAR-10 Batch 1:  loss at 1.4118268489837646 valid_acc at 0.43880000710487366\n",
      "Epoch 17, CIFAR-10 Batch 1:  loss at 1.385055661201477 valid_acc at 0.4453999996185303\n",
      "Epoch 18, CIFAR-10 Batch 1:  loss at 1.341005563735962 valid_acc at 0.45339998602867126\n",
      "Epoch 19, CIFAR-10 Batch 1:  loss at 1.3203825950622559 valid_acc at 0.4652000069618225\n",
      "Epoch 20, CIFAR-10 Batch 1:  loss at 1.2913004159927368 valid_acc at 0.46700000762939453\n",
      "Epoch 21, CIFAR-10 Batch 1:  loss at 1.2666049003601074 valid_acc at 0.4803999960422516\n",
      "Epoch 22, CIFAR-10 Batch 1:  loss at 1.241313099861145 valid_acc at 0.477400004863739\n",
      "Epoch 23, CIFAR-10 Batch 1:  loss at 1.2236695289611816 valid_acc at 0.4803999960422516\n",
      "Epoch 24, CIFAR-10 Batch 1:  loss at 1.1942310333251953 valid_acc at 0.48100000619888306\n",
      "Epoch 25, CIFAR-10 Batch 1:  loss at 1.1750507354736328 valid_acc at 0.49059998989105225\n",
      "Epoch 26, CIFAR-10 Batch 1:  loss at 1.15569007396698 valid_acc at 0.4973999857902527\n",
      "Epoch 27, CIFAR-10 Batch 1:  loss at 1.1314518451690674 valid_acc at 0.49939998984336853\n",
      "Epoch 28, CIFAR-10 Batch 1:  loss at 1.1139206886291504 valid_acc at 0.4952000081539154\n",
      "Epoch 29, CIFAR-10 Batch 1:  loss at 1.093333125114441 valid_acc at 0.5004000067710876\n",
      "Epoch 30, CIFAR-10 Batch 1:  loss at 1.0791746377944946 valid_acc at 0.5031999945640564\n",
      "Epoch 31, CIFAR-10 Batch 1:  loss at 1.054625391960144 valid_acc at 0.5063999891281128\n",
      "Epoch 32, CIFAR-10 Batch 1:  loss at 1.0374740362167358 valid_acc at 0.5095999836921692\n",
      "Epoch 33, CIFAR-10 Batch 1:  loss at 1.0237549543380737 valid_acc at 0.503000020980835\n",
      "Epoch 34, CIFAR-10 Batch 1:  loss at 1.0000869035720825 valid_acc at 0.5144000053405762\n",
      "Epoch 35, CIFAR-10 Batch 1:  loss at 0.9776461124420166 valid_acc at 0.5135999917984009\n",
      "Epoch 36, CIFAR-10 Batch 1:  loss at 0.9670233130455017 valid_acc at 0.5127999782562256\n",
      "Epoch 37, CIFAR-10 Batch 1:  loss at 0.9510319828987122 valid_acc at 0.5167999863624573\n",
      "Epoch 38, CIFAR-10 Batch 1:  loss at 0.9409068822860718 valid_acc at 0.5174000263214111\n",
      "Epoch 39, CIFAR-10 Batch 1:  loss at 0.9166055917739868 valid_acc at 0.5157999992370605\n",
      "Epoch 40, CIFAR-10 Batch 1:  loss at 0.9066233038902283 valid_acc at 0.5175999999046326\n",
      "Epoch 41, CIFAR-10 Batch 1:  loss at 0.8732686638832092 valid_acc at 0.5174000263214111\n",
      "Epoch 42, CIFAR-10 Batch 1:  loss at 0.8690185546875 valid_acc at 0.5224000215530396\n",
      "Epoch 43, CIFAR-10 Batch 1:  loss at 0.8542144298553467 valid_acc at 0.5206000208854675\n",
      "Epoch 44, CIFAR-10 Batch 1:  loss at 0.8289339542388916 valid_acc at 0.5260000228881836\n",
      "Epoch 45, CIFAR-10 Batch 1:  loss at 0.8254445791244507 valid_acc at 0.52920001745224\n",
      "Epoch 46, CIFAR-10 Batch 1:  loss at 0.8079271912574768 valid_acc at 0.5264000296592712\n",
      "Epoch 47, CIFAR-10 Batch 1:  loss at 0.7950868606567383 valid_acc at 0.524399995803833\n",
      "Epoch 48, CIFAR-10 Batch 1:  loss at 0.770221471786499 valid_acc at 0.5297999978065491\n",
      "Epoch 49, CIFAR-10 Batch 1:  loss at 0.7685983777046204 valid_acc at 0.5230000019073486\n",
      "Epoch 50, CIFAR-10 Batch 1:  loss at 0.7490965127944946 valid_acc at 0.5302000045776367\n",
      "Epoch 51, CIFAR-10 Batch 1:  loss at 0.746211588382721 valid_acc at 0.5257999897003174\n",
      "Epoch 52, CIFAR-10 Batch 1:  loss at 0.7402745485305786 valid_acc at 0.5284000039100647\n",
      "Epoch 53, CIFAR-10 Batch 1:  loss at 0.7107263803482056 valid_acc at 0.5360000133514404\n",
      "Epoch 54, CIFAR-10 Batch 1:  loss at 0.7043371796607971 valid_acc at 0.5299999713897705\n",
      "Epoch 55, CIFAR-10 Batch 1:  loss at 0.6949467658996582 valid_acc at 0.5339999794960022\n",
      "Epoch 56, CIFAR-10 Batch 1:  loss at 0.6723551154136658 valid_acc at 0.5350000262260437\n",
      "Epoch 57, CIFAR-10 Batch 1:  loss at 0.6671619415283203 valid_acc at 0.5288000106811523\n",
      "Epoch 58, CIFAR-10 Batch 1:  loss at 0.6577273607254028 valid_acc at 0.5357999801635742\n",
      "Epoch 59, CIFAR-10 Batch 1:  loss at 0.6370887160301208 valid_acc at 0.5293999910354614\n",
      "Epoch 60, CIFAR-10 Batch 1:  loss at 0.6269412636756897 valid_acc at 0.5307999849319458\n",
      "Epoch 61, CIFAR-10 Batch 1:  loss at 0.6236399412155151 valid_acc at 0.5386000275611877\n",
      "Epoch 62, CIFAR-10 Batch 1:  loss at 0.6098945736885071 valid_acc at 0.532800018787384\n",
      "Epoch 63, CIFAR-10 Batch 1:  loss at 0.5914468169212341 valid_acc at 0.5371999740600586\n",
      "Epoch 64, CIFAR-10 Batch 1:  loss at 0.5929297804832458 valid_acc at 0.5342000126838684\n",
      "Epoch 65, CIFAR-10 Batch 1:  loss at 0.5790683031082153 valid_acc at 0.5343999862670898\n",
      "Epoch 66, CIFAR-10 Batch 1:  loss at 0.5739244222640991 valid_acc at 0.5353999733924866\n",
      "Epoch 67, CIFAR-10 Batch 1:  loss at 0.5570411086082458 valid_acc at 0.5311999917030334\n",
      "Epoch 68, CIFAR-10 Batch 1:  loss at 0.5501318573951721 valid_acc at 0.5388000011444092\n",
      "Epoch 69, CIFAR-10 Batch 1:  loss at 0.5336361527442932 valid_acc at 0.5306000113487244\n",
      "Epoch 70, CIFAR-10 Batch 1:  loss at 0.5242476463317871 valid_acc at 0.5307999849319458\n",
      "Epoch 71, CIFAR-10 Batch 1:  loss at 0.5229234099388123 valid_acc at 0.5378000140190125\n",
      "Epoch 72, CIFAR-10 Batch 1:  loss at 0.5164706707000732 valid_acc at 0.5270000100135803\n",
      "Epoch 73, CIFAR-10 Batch 1:  loss at 0.5114234685897827 valid_acc at 0.5383999943733215\n",
      "Epoch 74, CIFAR-10 Batch 1:  loss at 0.4990849196910858 valid_acc at 0.5364000201225281\n",
      "Epoch 75, CIFAR-10 Batch 1:  loss at 0.4949430823326111 valid_acc at 0.534600019454956\n",
      "Epoch 76, CIFAR-10 Batch 1:  loss at 0.4861900806427002 valid_acc at 0.5353999733924866\n",
      "Epoch 77, CIFAR-10 Batch 1:  loss at 0.47936004400253296 valid_acc at 0.5351999998092651\n",
      "Epoch 78, CIFAR-10 Batch 1:  loss at 0.4873126447200775 valid_acc at 0.52920001745224\n",
      "Epoch 79, CIFAR-10 Batch 1:  loss at 0.4718364179134369 valid_acc at 0.5302000045776367\n",
      "Epoch 80, CIFAR-10 Batch 1:  loss at 0.46953967213630676 valid_acc at 0.5270000100135803\n",
      "Epoch 81, CIFAR-10 Batch 1:  loss at 0.47685372829437256 valid_acc at 0.5221999883651733\n",
      "Epoch 82, CIFAR-10 Batch 1:  loss at 0.44684869050979614 valid_acc at 0.5297999978065491\n",
      "Epoch 83, CIFAR-10 Batch 1:  loss at 0.47105178236961365 valid_acc at 0.5252000093460083\n",
      "Epoch 84, CIFAR-10 Batch 1:  loss at 0.4511434733867645 valid_acc at 0.5267999768257141\n",
      "Epoch 85, CIFAR-10 Batch 1:  loss at 0.4608843922615051 valid_acc at 0.5264000296592712\n",
      "Epoch 86, CIFAR-10 Batch 1:  loss at 0.43089261651039124 valid_acc at 0.5134000182151794\n",
      "Epoch 87, CIFAR-10 Batch 1:  loss at 0.43817126750946045 valid_acc at 0.5246000289916992\n",
      "Epoch 88, CIFAR-10 Batch 1:  loss at 0.4194488525390625 valid_acc at 0.5293999910354614\n",
      "Epoch 89, CIFAR-10 Batch 1:  loss at 0.4122622311115265 valid_acc at 0.5342000126838684\n",
      "Epoch 90, CIFAR-10 Batch 1:  loss at 0.4124877452850342 valid_acc at 0.5275999903678894\n",
      "Epoch 91, CIFAR-10 Batch 1:  loss at 0.4030320644378662 valid_acc at 0.5271999835968018\n",
      "Epoch 92, CIFAR-10 Batch 1:  loss at 0.3951341211795807 valid_acc at 0.5270000100135803\n",
      "Epoch 93, CIFAR-10 Batch 1:  loss at 0.3863575756549835 valid_acc at 0.5350000262260437\n",
      "Epoch 94, CIFAR-10 Batch 1:  loss at 0.3699800372123718 valid_acc at 0.5324000120162964\n",
      "Epoch 95, CIFAR-10 Batch 1:  loss at 0.37344005703926086 valid_acc at 0.5339999794960022\n",
      "Epoch 96, CIFAR-10 Batch 1:  loss at 0.3427095413208008 valid_acc at 0.5360000133514404\n",
      "Epoch 97, CIFAR-10 Batch 1:  loss at 0.35445162653923035 valid_acc at 0.534600019454956\n",
      "Epoch 98, CIFAR-10 Batch 1:  loss at 0.3498685359954834 valid_acc at 0.52920001745224\n",
      "Epoch 99, CIFAR-10 Batch 1:  loss at 0.3359103798866272 valid_acc at 0.5361999869346619\n",
      "Epoch 100, CIFAR-10 Batch 1:  loss at 0.33026984333992004 valid_acc at 0.5332000255584717\n"
     ]
    }
   ],
   "source": [
    "\"\"\"\n",
    "DON'T MODIFY ANYTHING IN THIS CELL\n",
    "\"\"\"\n",
    "print('Checking the Training on a Single Batch...')\n",
    "with tf.Session() as sess:\n",
    "    # Initializing the variables\n",
    "    sess.run(tf.global_variables_initializer())\n",
    "    \n",
    "    # Training cycle\n",
    "    for epoch in range(epochs):\n",
    "        batch_i = 1\n",
    "        for batch_features, batch_labels in helper.load_preprocess_training_batch(batch_i, batch_size):\n",
    "            train_neural_network(sess, optimizer, keep_probability, batch_features, batch_labels)\n",
    "        print('Epoch {:>2}, CIFAR-10 Batch {}:  '.format(epoch + 1, batch_i), end='')\n",
    "        print_stats(sess, batch_features, batch_labels, cost, accuracy)"
   ]
  },
  {
   "cell_type": "markdown",
   "metadata": {
    "deletable": true,
    "editable": true
   },
   "source": [
    "### Fully Train the Model\n",
    "Now that you got a good accuracy with a single CIFAR-10 batch, try it with all five batches."
   ]
  },
  {
   "cell_type": "code",
   "execution_count": 180,
   "metadata": {
    "collapsed": false,
    "deletable": true,
    "editable": true
   },
   "outputs": [
    {
     "name": "stdout",
     "output_type": "stream",
     "text": [
      "Training...\n",
      "Epoch  1, CIFAR-10 Batch 1:  loss at 3.2888569831848145 valid_acc at 0.1632000058889389\n",
      "Epoch  1, CIFAR-10 Batch 2:  loss at 2.2602484226226807 valid_acc at 0.2176000028848648\n",
      "Epoch  1, CIFAR-10 Batch 3:  loss at 2.077083110809326 valid_acc at 0.23119999468326569\n",
      "Epoch  1, CIFAR-10 Batch 4:  loss at 2.018634080886841 valid_acc at 0.2709999978542328\n",
      "Epoch  1, CIFAR-10 Batch 5:  loss at 1.9630885124206543 valid_acc at 0.2935999929904938\n",
      "Epoch  2, CIFAR-10 Batch 1:  loss at 1.8907978534698486 valid_acc at 0.3190000057220459\n",
      "Epoch  2, CIFAR-10 Batch 2:  loss at 1.8586210012435913 valid_acc at 0.33959999680519104\n",
      "Epoch  2, CIFAR-10 Batch 3:  loss at 1.7660380601882935 valid_acc at 0.3569999933242798\n",
      "Epoch  2, CIFAR-10 Batch 4:  loss at 1.7184251546859741 valid_acc at 0.3799999952316284\n",
      "Epoch  2, CIFAR-10 Batch 5:  loss at 1.7029285430908203 valid_acc at 0.38659998774528503\n",
      "Epoch  3, CIFAR-10 Batch 1:  loss at 1.6456235647201538 valid_acc at 0.40880000591278076\n",
      "Epoch  3, CIFAR-10 Batch 2:  loss at 1.609494686126709 valid_acc at 0.421999990940094\n",
      "Epoch  3, CIFAR-10 Batch 3:  loss at 1.5511572360992432 valid_acc at 0.42820000648498535\n",
      "Epoch  3, CIFAR-10 Batch 4:  loss at 1.5353902578353882 valid_acc at 0.444599986076355\n",
      "Epoch  3, CIFAR-10 Batch 5:  loss at 1.5203070640563965 valid_acc at 0.44859999418258667\n",
      "Epoch  4, CIFAR-10 Batch 1:  loss at 1.4788860082626343 valid_acc at 0.46619999408721924\n",
      "Epoch  4, CIFAR-10 Batch 2:  loss at 1.4416277408599854 valid_acc at 0.4724000096321106\n",
      "Epoch  4, CIFAR-10 Batch 3:  loss at 1.4165093898773193 valid_acc at 0.4765999913215637\n",
      "Epoch  4, CIFAR-10 Batch 4:  loss at 1.397724986076355 valid_acc at 0.48240000009536743\n",
      "Epoch  4, CIFAR-10 Batch 5:  loss at 1.37519371509552 valid_acc at 0.4887999892234802\n",
      "Epoch  5, CIFAR-10 Batch 1:  loss at 1.3641327619552612 valid_acc at 0.4970000088214874\n",
      "Epoch  5, CIFAR-10 Batch 2:  loss at 1.335532307624817 valid_acc at 0.4909999966621399\n",
      "Epoch  5, CIFAR-10 Batch 3:  loss at 1.314633846282959 valid_acc at 0.4970000088214874\n",
      "Epoch  5, CIFAR-10 Batch 4:  loss at 1.3106595277786255 valid_acc at 0.5067999958992004\n",
      "Epoch  5, CIFAR-10 Batch 5:  loss at 1.2743570804595947 valid_acc at 0.5120000243186951\n",
      "Epoch  6, CIFAR-10 Batch 1:  loss at 1.3037523031234741 valid_acc at 0.5149999856948853\n",
      "Epoch  6, CIFAR-10 Batch 2:  loss at 1.260575532913208 valid_acc at 0.5135999917984009\n",
      "Epoch  6, CIFAR-10 Batch 3:  loss at 1.243298888206482 valid_acc at 0.5138000249862671\n",
      "Epoch  6, CIFAR-10 Batch 4:  loss at 1.2357616424560547 valid_acc at 0.5185999870300293\n",
      "Epoch  6, CIFAR-10 Batch 5:  loss at 1.2064085006713867 valid_acc at 0.5281999707221985\n",
      "Epoch  7, CIFAR-10 Batch 1:  loss at 1.2379308938980103 valid_acc at 0.5365999937057495\n",
      "Epoch  7, CIFAR-10 Batch 2:  loss at 1.2081564664840698 valid_acc at 0.5379999876022339\n",
      "Epoch  7, CIFAR-10 Batch 3:  loss at 1.1954100131988525 valid_acc at 0.5303999781608582\n",
      "Epoch  7, CIFAR-10 Batch 4:  loss at 1.1866827011108398 valid_acc at 0.5415999889373779\n",
      "Epoch  7, CIFAR-10 Batch 5:  loss at 1.1492841243743896 valid_acc at 0.5419999957084656\n",
      "Epoch  8, CIFAR-10 Batch 1:  loss at 1.2053736448287964 valid_acc at 0.5490000247955322\n",
      "Epoch  8, CIFAR-10 Batch 2:  loss at 1.1542317867279053 valid_acc at 0.5486000180244446\n",
      "Epoch  8, CIFAR-10 Batch 3:  loss at 1.1313376426696777 valid_acc at 0.5508000254631042\n",
      "Epoch  8, CIFAR-10 Batch 4:  loss at 1.1424598693847656 valid_acc at 0.5460000038146973\n",
      "Epoch  8, CIFAR-10 Batch 5:  loss at 1.0899347066879272 valid_acc at 0.5568000078201294\n",
      "Epoch  9, CIFAR-10 Batch 1:  loss at 1.1580874919891357 valid_acc at 0.5600000023841858\n",
      "Epoch  9, CIFAR-10 Batch 2:  loss at 1.1102516651153564 valid_acc at 0.5583999752998352\n",
      "Epoch  9, CIFAR-10 Batch 3:  loss at 1.094447135925293 valid_acc at 0.5573999881744385\n",
      "Epoch  9, CIFAR-10 Batch 4:  loss at 1.106832504272461 valid_acc at 0.5568000078201294\n",
      "Epoch  9, CIFAR-10 Batch 5:  loss at 1.0498460531234741 valid_acc at 0.5601999759674072\n",
      "Epoch 10, CIFAR-10 Batch 1:  loss at 1.1245778799057007 valid_acc at 0.5691999793052673\n",
      "Epoch 10, CIFAR-10 Batch 2:  loss at 1.0839489698410034 valid_acc at 0.5662000179290771\n",
      "Epoch 10, CIFAR-10 Batch 3:  loss at 1.0604190826416016 valid_acc at 0.5618000030517578\n",
      "Epoch 10, CIFAR-10 Batch 4:  loss at 1.0704379081726074 valid_acc at 0.5594000220298767\n",
      "Epoch 10, CIFAR-10 Batch 5:  loss at 1.008805274963379 valid_acc at 0.5723999738693237\n",
      "Epoch 11, CIFAR-10 Batch 1:  loss at 1.09050714969635 valid_acc at 0.578000009059906\n",
      "Epoch 11, CIFAR-10 Batch 2:  loss at 1.0351899862289429 valid_acc at 0.5717999935150146\n",
      "Epoch 11, CIFAR-10 Batch 3:  loss at 1.0302987098693848 valid_acc at 0.5741999745368958\n",
      "Epoch 11, CIFAR-10 Batch 4:  loss at 1.0343682765960693 valid_acc at 0.5681999921798706\n",
      "Epoch 11, CIFAR-10 Batch 5:  loss at 0.9795922040939331 valid_acc at 0.5777999758720398\n",
      "Epoch 12, CIFAR-10 Batch 1:  loss at 1.0567532777786255 valid_acc at 0.5807999968528748\n",
      "Epoch 12, CIFAR-10 Batch 2:  loss at 1.0062808990478516 valid_acc at 0.5842000246047974\n",
      "Epoch 12, CIFAR-10 Batch 3:  loss at 0.9988460540771484 valid_acc at 0.5767999887466431\n",
      "Epoch 12, CIFAR-10 Batch 4:  loss at 1.0064760446548462 valid_acc at 0.5727999806404114\n",
      "Epoch 12, CIFAR-10 Batch 5:  loss at 0.9472811818122864 valid_acc at 0.5812000036239624\n",
      "Epoch 13, CIFAR-10 Batch 1:  loss at 1.02860426902771 valid_acc at 0.5874000191688538\n",
      "Epoch 13, CIFAR-10 Batch 2:  loss at 0.9697712659835815 valid_acc at 0.5875999927520752\n",
      "Epoch 13, CIFAR-10 Batch 3:  loss at 0.9702863097190857 valid_acc at 0.5889999866485596\n",
      "Epoch 13, CIFAR-10 Batch 4:  loss at 0.9750153422355652 valid_acc at 0.5795999765396118\n",
      "Epoch 13, CIFAR-10 Batch 5:  loss at 0.9073028564453125 valid_acc at 0.5896000266075134\n",
      "Epoch 14, CIFAR-10 Batch 1:  loss at 1.009529948234558 valid_acc at 0.5911999940872192\n",
      "Epoch 14, CIFAR-10 Batch 2:  loss at 0.9391307234764099 valid_acc at 0.5943999886512756\n",
      "Epoch 14, CIFAR-10 Batch 3:  loss at 0.9485365748405457 valid_acc at 0.5839999914169312\n",
      "Epoch 14, CIFAR-10 Batch 4:  loss at 0.9542725086212158 valid_acc at 0.5763999819755554\n",
      "Epoch 14, CIFAR-10 Batch 5:  loss at 0.8897541761398315 valid_acc at 0.5892000198364258\n",
      "Epoch 15, CIFAR-10 Batch 1:  loss at 0.9799618721008301 valid_acc at 0.6011999845504761\n",
      "Epoch 15, CIFAR-10 Batch 2:  loss at 0.9227137565612793 valid_acc at 0.5898000001907349\n",
      "Epoch 15, CIFAR-10 Batch 3:  loss at 0.9205416440963745 valid_acc at 0.5852000117301941\n",
      "Epoch 15, CIFAR-10 Batch 4:  loss at 0.9217121601104736 valid_acc at 0.5838000178337097\n",
      "Epoch 15, CIFAR-10 Batch 5:  loss at 0.8731804490089417 valid_acc at 0.5979999899864197\n",
      "Epoch 16, CIFAR-10 Batch 1:  loss at 0.9559503197669983 valid_acc at 0.5950000286102295\n",
      "Epoch 16, CIFAR-10 Batch 2:  loss at 0.8885655999183655 valid_acc at 0.5956000089645386\n",
      "Epoch 16, CIFAR-10 Batch 3:  loss at 0.8986014127731323 valid_acc at 0.597599983215332\n",
      "Epoch 16, CIFAR-10 Batch 4:  loss at 0.9058027863502502 valid_acc at 0.5896000266075134\n",
      "Epoch 16, CIFAR-10 Batch 5:  loss at 0.8480393886566162 valid_acc at 0.5961999893188477\n",
      "Epoch 17, CIFAR-10 Batch 1:  loss at 0.9264891743659973 valid_acc at 0.6029999852180481\n",
      "Epoch 17, CIFAR-10 Batch 2:  loss at 0.8651936650276184 valid_acc at 0.5968000292778015\n",
      "Epoch 17, CIFAR-10 Batch 3:  loss at 0.8756200075149536 valid_acc at 0.5974000096321106\n",
      "Epoch 17, CIFAR-10 Batch 4:  loss at 0.8830142021179199 valid_acc at 0.5914000272750854\n",
      "Epoch 17, CIFAR-10 Batch 5:  loss at 0.8096553087234497 valid_acc at 0.6015999913215637\n",
      "Epoch 18, CIFAR-10 Batch 1:  loss at 0.9033940434455872 valid_acc at 0.6037999987602234\n",
      "Epoch 18, CIFAR-10 Batch 2:  loss at 0.8493369817733765 valid_acc at 0.6001999974250793\n",
      "Epoch 18, CIFAR-10 Batch 3:  loss at 0.8528918027877808 valid_acc at 0.5997999906539917\n",
      "Epoch 18, CIFAR-10 Batch 4:  loss at 0.8495197296142578 valid_acc at 0.6037999987602234\n",
      "Epoch 18, CIFAR-10 Batch 5:  loss at 0.7849287986755371 valid_acc at 0.602400004863739\n",
      "Epoch 19, CIFAR-10 Batch 1:  loss at 0.8831769227981567 valid_acc at 0.6087999939918518\n",
      "Epoch 19, CIFAR-10 Batch 2:  loss at 0.8226216435432434 valid_acc at 0.6060000061988831\n",
      "Epoch 19, CIFAR-10 Batch 3:  loss at 0.8249028325080872 valid_acc at 0.598800003528595\n",
      "Epoch 19, CIFAR-10 Batch 4:  loss at 0.833122193813324 valid_acc at 0.599399983882904\n",
      "Epoch 19, CIFAR-10 Batch 5:  loss at 0.7666388750076294 valid_acc at 0.6051999926567078\n",
      "Epoch 20, CIFAR-10 Batch 1:  loss at 0.8601764440536499 valid_acc at 0.6039999723434448\n",
      "Epoch 20, CIFAR-10 Batch 2:  loss at 0.8028544187545776 valid_acc at 0.6105999946594238\n",
      "Epoch 20, CIFAR-10 Batch 3:  loss at 0.8016645908355713 valid_acc at 0.6033999919891357\n",
      "Epoch 20, CIFAR-10 Batch 4:  loss at 0.8064939379692078 valid_acc at 0.5961999893188477\n",
      "Epoch 20, CIFAR-10 Batch 5:  loss at 0.7463313937187195 valid_acc at 0.6086000204086304\n",
      "Epoch 21, CIFAR-10 Batch 1:  loss at 0.8474887013435364 valid_acc at 0.6057999730110168\n",
      "Epoch 21, CIFAR-10 Batch 2:  loss at 0.7904816269874573 valid_acc at 0.6083999872207642\n",
      "Epoch 21, CIFAR-10 Batch 3:  loss at 0.7912225723266602 valid_acc at 0.6047999858856201\n",
      "Epoch 21, CIFAR-10 Batch 4:  loss at 0.79581218957901 valid_acc at 0.6043999791145325\n",
      "Epoch 21, CIFAR-10 Batch 5:  loss at 0.7343629002571106 valid_acc at 0.6115999817848206\n",
      "Epoch 22, CIFAR-10 Batch 1:  loss at 0.8245626091957092 valid_acc at 0.6086000204086304\n",
      "Epoch 22, CIFAR-10 Batch 2:  loss at 0.7703176736831665 valid_acc at 0.6126000285148621\n",
      "Epoch 22, CIFAR-10 Batch 3:  loss at 0.7701237797737122 valid_acc at 0.6003999710083008\n",
      "Epoch 22, CIFAR-10 Batch 4:  loss at 0.7785263657569885 valid_acc at 0.6082000136375427\n",
      "Epoch 22, CIFAR-10 Batch 5:  loss at 0.7000913619995117 valid_acc at 0.6064000129699707\n",
      "Epoch 23, CIFAR-10 Batch 1:  loss at 0.8054088950157166 valid_acc at 0.6128000020980835\n",
      "Epoch 23, CIFAR-10 Batch 2:  loss at 0.7528027892112732 valid_acc at 0.6075999736785889\n",
      "Epoch 23, CIFAR-10 Batch 3:  loss at 0.7505736351013184 valid_acc at 0.6161999702453613\n",
      "Epoch 23, CIFAR-10 Batch 4:  loss at 0.7559121251106262 valid_acc at 0.6132000088691711\n",
      "Epoch 23, CIFAR-10 Batch 5:  loss at 0.6809751987457275 valid_acc at 0.6161999702453613\n",
      "Epoch 24, CIFAR-10 Batch 1:  loss at 0.7950662970542908 valid_acc at 0.6186000108718872\n",
      "Epoch 24, CIFAR-10 Batch 2:  loss at 0.7297377586364746 valid_acc at 0.6074000000953674\n",
      "Epoch 24, CIFAR-10 Batch 3:  loss at 0.7263655662536621 valid_acc at 0.6140000224113464\n",
      "Epoch 24, CIFAR-10 Batch 4:  loss at 0.7430587410926819 valid_acc at 0.607200026512146\n",
      "Epoch 24, CIFAR-10 Batch 5:  loss at 0.6761033535003662 valid_acc at 0.6074000000953674\n",
      "Epoch 25, CIFAR-10 Batch 1:  loss at 0.766839861869812 valid_acc at 0.6179999709129333\n",
      "Epoch 25, CIFAR-10 Batch 2:  loss at 0.7220481634140015 valid_acc at 0.6096000075340271\n",
      "Epoch 25, CIFAR-10 Batch 3:  loss at 0.6999334096908569 valid_acc at 0.6169999837875366\n",
      "Epoch 25, CIFAR-10 Batch 4:  loss at 0.7230340838432312 valid_acc at 0.6075999736785889\n",
      "Epoch 25, CIFAR-10 Batch 5:  loss at 0.6455007195472717 valid_acc at 0.6191999912261963\n",
      "Epoch 26, CIFAR-10 Batch 1:  loss at 0.7457682490348816 valid_acc at 0.6179999709129333\n",
      "Epoch 26, CIFAR-10 Batch 2:  loss at 0.6934973001480103 valid_acc at 0.6195999979972839\n",
      "Epoch 26, CIFAR-10 Batch 3:  loss at 0.6775221228599548 valid_acc at 0.6173999905586243\n",
      "Epoch 26, CIFAR-10 Batch 4:  loss at 0.7051408886909485 valid_acc at 0.6209999918937683\n",
      "Epoch 26, CIFAR-10 Batch 5:  loss at 0.630214512348175 valid_acc at 0.6230000257492065\n",
      "Epoch 27, CIFAR-10 Batch 1:  loss at 0.7255033254623413 valid_acc at 0.6277999877929688\n",
      "Epoch 27, CIFAR-10 Batch 2:  loss at 0.6741096377372742 valid_acc at 0.6169999837875366\n",
      "Epoch 27, CIFAR-10 Batch 3:  loss at 0.6588367223739624 valid_acc at 0.621999979019165\n",
      "Epoch 27, CIFAR-10 Batch 4:  loss at 0.6857181787490845 valid_acc at 0.6177999973297119\n",
      "Epoch 27, CIFAR-10 Batch 5:  loss at 0.6119499802589417 valid_acc at 0.6237999796867371\n",
      "Epoch 28, CIFAR-10 Batch 1:  loss at 0.7051059007644653 valid_acc at 0.626800000667572\n",
      "Epoch 28, CIFAR-10 Batch 2:  loss at 0.6557561755180359 valid_acc at 0.6209999918937683\n",
      "Epoch 28, CIFAR-10 Batch 3:  loss at 0.6421428918838501 valid_acc at 0.6273999810218811\n",
      "Epoch 28, CIFAR-10 Batch 4:  loss at 0.6695144176483154 valid_acc at 0.6212000250816345\n",
      "Epoch 28, CIFAR-10 Batch 5:  loss at 0.5971534848213196 valid_acc at 0.625\n",
      "Epoch 29, CIFAR-10 Batch 1:  loss at 0.6929391026496887 valid_acc at 0.6255999803543091\n",
      "Epoch 29, CIFAR-10 Batch 2:  loss at 0.639695405960083 valid_acc at 0.6227999925613403\n",
      "Epoch 29, CIFAR-10 Batch 3:  loss at 0.6209104061126709 valid_acc at 0.6287999749183655\n",
      "Epoch 29, CIFAR-10 Batch 4:  loss at 0.6546098589897156 valid_acc at 0.6190000176429749\n",
      "Epoch 29, CIFAR-10 Batch 5:  loss at 0.5881512761116028 valid_acc at 0.6218000054359436\n",
      "Epoch 30, CIFAR-10 Batch 1:  loss at 0.6840749382972717 valid_acc at 0.6299999952316284\n",
      "Epoch 30, CIFAR-10 Batch 2:  loss at 0.6212865114212036 valid_acc at 0.6236000061035156\n",
      "Epoch 30, CIFAR-10 Batch 3:  loss at 0.6134132742881775 valid_acc at 0.625\n",
      "Epoch 30, CIFAR-10 Batch 4:  loss at 0.6381900906562805 valid_acc at 0.6240000128746033\n",
      "Epoch 30, CIFAR-10 Batch 5:  loss at 0.5669094324111938 valid_acc at 0.6304000020027161\n",
      "Epoch 31, CIFAR-10 Batch 1:  loss at 0.650252103805542 valid_acc at 0.6317999958992004\n",
      "Epoch 31, CIFAR-10 Batch 2:  loss at 0.603918194770813 valid_acc at 0.6255999803543091\n",
      "Epoch 31, CIFAR-10 Batch 3:  loss at 0.5913318395614624 valid_acc at 0.6304000020027161\n",
      "Epoch 31, CIFAR-10 Batch 4:  loss at 0.6254284977912903 valid_acc at 0.6208000183105469\n",
      "Epoch 31, CIFAR-10 Batch 5:  loss at 0.550832986831665 valid_acc at 0.629800021648407\n",
      "Epoch 32, CIFAR-10 Batch 1:  loss at 0.638153612613678 valid_acc at 0.629800021648407\n",
      "Epoch 32, CIFAR-10 Batch 2:  loss at 0.5875675082206726 valid_acc at 0.6258000135421753\n",
      "Epoch 32, CIFAR-10 Batch 3:  loss at 0.5750142931938171 valid_acc at 0.6377999782562256\n",
      "Epoch 32, CIFAR-10 Batch 4:  loss at 0.6018805503845215 valid_acc at 0.6209999918937683\n",
      "Epoch 32, CIFAR-10 Batch 5:  loss at 0.5395826101303101 valid_acc at 0.6269999742507935\n",
      "Epoch 33, CIFAR-10 Batch 1:  loss at 0.6307049989700317 valid_acc at 0.6287999749183655\n",
      "Epoch 33, CIFAR-10 Batch 2:  loss at 0.585437536239624 valid_acc at 0.6258000135421753\n",
      "Epoch 33, CIFAR-10 Batch 3:  loss at 0.5559208989143372 valid_acc at 0.6302000284194946\n",
      "Epoch 33, CIFAR-10 Batch 4:  loss at 0.5848773121833801 valid_acc at 0.6258000135421753\n",
      "Epoch 33, CIFAR-10 Batch 5:  loss at 0.5295104384422302 valid_acc at 0.6287999749183655\n",
      "Epoch 34, CIFAR-10 Batch 1:  loss at 0.6124753355979919 valid_acc at 0.6353999972343445\n",
      "Epoch 34, CIFAR-10 Batch 2:  loss at 0.5604268908500671 valid_acc at 0.6255999803543091\n",
      "Epoch 34, CIFAR-10 Batch 3:  loss at 0.541625440120697 valid_acc at 0.628600001335144\n",
      "Epoch 34, CIFAR-10 Batch 4:  loss at 0.5788639783859253 valid_acc at 0.6236000061035156\n",
      "Epoch 34, CIFAR-10 Batch 5:  loss at 0.5246378779411316 valid_acc at 0.6299999952316284\n",
      "Epoch 35, CIFAR-10 Batch 1:  loss at 0.5964052677154541 valid_acc at 0.6317999958992004\n",
      "Epoch 35, CIFAR-10 Batch 2:  loss at 0.5420553088188171 valid_acc at 0.6263999938964844\n",
      "Epoch 35, CIFAR-10 Batch 3:  loss at 0.5362011790275574 valid_acc at 0.6313999891281128\n",
      "Epoch 35, CIFAR-10 Batch 4:  loss at 0.5540555715560913 valid_acc at 0.6258000135421753\n",
      "Epoch 35, CIFAR-10 Batch 5:  loss at 0.49827471375465393 valid_acc at 0.6263999938964844\n",
      "Epoch 36, CIFAR-10 Batch 1:  loss at 0.569799542427063 valid_acc at 0.633400022983551\n",
      "Epoch 36, CIFAR-10 Batch 2:  loss at 0.5268949866294861 valid_acc at 0.6304000020027161\n",
      "Epoch 36, CIFAR-10 Batch 3:  loss at 0.5173590779304504 valid_acc at 0.6294000148773193\n",
      "Epoch 36, CIFAR-10 Batch 4:  loss at 0.5406829714775085 valid_acc at 0.6294000148773193\n",
      "Epoch 36, CIFAR-10 Batch 5:  loss at 0.4890204668045044 valid_acc at 0.629800021648407\n",
      "Epoch 37, CIFAR-10 Batch 1:  loss at 0.5688138008117676 valid_acc at 0.6367999911308289\n",
      "Epoch 37, CIFAR-10 Batch 2:  loss at 0.5154436230659485 valid_acc at 0.6258000135421753\n",
      "Epoch 37, CIFAR-10 Batch 3:  loss at 0.4983570873737335 valid_acc at 0.6345999836921692\n",
      "Epoch 37, CIFAR-10 Batch 4:  loss at 0.5233388543128967 valid_acc at 0.6326000094413757\n",
      "Epoch 37, CIFAR-10 Batch 5:  loss at 0.47974032163619995 valid_acc at 0.6344000101089478\n",
      "Epoch 38, CIFAR-10 Batch 1:  loss at 0.5413210391998291 valid_acc at 0.6385999917984009\n",
      "Epoch 38, CIFAR-10 Batch 2:  loss at 0.5009074211120605 valid_acc at 0.6305999755859375\n",
      "Epoch 38, CIFAR-10 Batch 3:  loss at 0.48339346051216125 valid_acc at 0.6355999708175659\n",
      "Epoch 38, CIFAR-10 Batch 4:  loss at 0.5016695261001587 valid_acc at 0.6327999830245972\n",
      "Epoch 38, CIFAR-10 Batch 5:  loss at 0.46840906143188477 valid_acc at 0.6327999830245972\n",
      "Epoch 39, CIFAR-10 Batch 1:  loss at 0.5236918926239014 valid_acc at 0.6373999714851379\n",
      "Epoch 39, CIFAR-10 Batch 2:  loss at 0.48262274265289307 valid_acc at 0.6302000284194946\n",
      "Epoch 39, CIFAR-10 Batch 3:  loss at 0.4758679270744324 valid_acc at 0.6366000175476074\n",
      "Epoch 39, CIFAR-10 Batch 4:  loss at 0.48735710978507996 valid_acc at 0.6290000081062317\n",
      "Epoch 39, CIFAR-10 Batch 5:  loss at 0.4586807191371918 valid_acc at 0.6308000087738037\n",
      "Epoch 40, CIFAR-10 Batch 1:  loss at 0.5234594345092773 valid_acc at 0.6308000087738037\n",
      "Epoch 40, CIFAR-10 Batch 2:  loss at 0.46459320187568665 valid_acc at 0.6341999769210815\n",
      "Epoch 40, CIFAR-10 Batch 3:  loss at 0.46218419075012207 valid_acc at 0.635200023651123\n",
      "Epoch 40, CIFAR-10 Batch 4:  loss at 0.46713685989379883 valid_acc at 0.6399999856948853\n",
      "Epoch 40, CIFAR-10 Batch 5:  loss at 0.43937963247299194 valid_acc at 0.6287999749183655\n",
      "Epoch 41, CIFAR-10 Batch 1:  loss at 0.5043843388557434 valid_acc at 0.6373999714851379\n",
      "Epoch 41, CIFAR-10 Batch 2:  loss at 0.4628816843032837 valid_acc at 0.6295999884605408\n",
      "Epoch 41, CIFAR-10 Batch 3:  loss at 0.4493662714958191 valid_acc at 0.6305999755859375\n",
      "Epoch 41, CIFAR-10 Batch 4:  loss at 0.4656147062778473 valid_acc at 0.6366000175476074\n",
      "Epoch 41, CIFAR-10 Batch 5:  loss at 0.43141043186187744 valid_acc at 0.6313999891281128\n",
      "Epoch 42, CIFAR-10 Batch 1:  loss at 0.4912394881248474 valid_acc at 0.6376000046730042\n",
      "Epoch 42, CIFAR-10 Batch 2:  loss at 0.4534778892993927 valid_acc at 0.6320000290870667\n",
      "Epoch 42, CIFAR-10 Batch 3:  loss at 0.43065279722213745 valid_acc at 0.63919997215271\n",
      "Epoch 42, CIFAR-10 Batch 4:  loss at 0.44469210505485535 valid_acc at 0.6335999965667725\n",
      "Epoch 42, CIFAR-10 Batch 5:  loss at 0.4134994447231293 valid_acc at 0.6370000243186951\n",
      "Epoch 43, CIFAR-10 Batch 1:  loss at 0.47649019956588745 valid_acc at 0.6377999782562256\n",
      "Epoch 43, CIFAR-10 Batch 2:  loss at 0.4309050440788269 valid_acc at 0.6362000107765198\n",
      "Epoch 43, CIFAR-10 Batch 3:  loss at 0.41744372248649597 valid_acc at 0.6425999999046326\n",
      "Epoch 43, CIFAR-10 Batch 4:  loss at 0.4297768175601959 valid_acc at 0.6358000040054321\n",
      "Epoch 43, CIFAR-10 Batch 5:  loss at 0.4062620997428894 valid_acc at 0.635200023651123\n",
      "Epoch 44, CIFAR-10 Batch 1:  loss at 0.46759963035583496 valid_acc at 0.6384000182151794\n",
      "Epoch 44, CIFAR-10 Batch 2:  loss at 0.42458170652389526 valid_acc at 0.6370000243186951\n",
      "Epoch 44, CIFAR-10 Batch 3:  loss at 0.41168057918548584 valid_acc at 0.6389999985694885\n",
      "Epoch 44, CIFAR-10 Batch 4:  loss at 0.40844669938087463 valid_acc at 0.6412000060081482\n",
      "Epoch 44, CIFAR-10 Batch 5:  loss at 0.38950052857398987 valid_acc at 0.6340000033378601\n",
      "Epoch 45, CIFAR-10 Batch 1:  loss at 0.4547426700592041 valid_acc at 0.6381999850273132\n",
      "Epoch 45, CIFAR-10 Batch 2:  loss at 0.4088759422302246 valid_acc at 0.6287999749183655\n",
      "Epoch 45, CIFAR-10 Batch 3:  loss at 0.40851476788520813 valid_acc at 0.6398000121116638\n",
      "Epoch 45, CIFAR-10 Batch 4:  loss at 0.40281492471694946 valid_acc at 0.6439999938011169\n",
      "Epoch 45, CIFAR-10 Batch 5:  loss at 0.3829830586910248 valid_acc at 0.6398000121116638\n",
      "Epoch 46, CIFAR-10 Batch 1:  loss at 0.4419097900390625 valid_acc at 0.6449999809265137\n",
      "Epoch 46, CIFAR-10 Batch 2:  loss at 0.4008820354938507 valid_acc at 0.635200023651123\n",
      "Epoch 46, CIFAR-10 Batch 3:  loss at 0.39298203587532043 valid_acc at 0.6416000127792358\n",
      "Epoch 46, CIFAR-10 Batch 4:  loss at 0.39619308710098267 valid_acc at 0.6358000040054321\n",
      "Epoch 46, CIFAR-10 Batch 5:  loss at 0.3751329183578491 valid_acc at 0.6322000026702881\n",
      "Epoch 47, CIFAR-10 Batch 1:  loss at 0.4275798499584198 valid_acc at 0.6430000066757202\n",
      "Epoch 47, CIFAR-10 Batch 2:  loss at 0.37712934613227844 valid_acc at 0.6403999924659729\n",
      "Epoch 47, CIFAR-10 Batch 3:  loss at 0.36958789825439453 valid_acc at 0.6406000256538391\n",
      "Epoch 47, CIFAR-10 Batch 4:  loss at 0.37849289178848267 valid_acc at 0.6363999843597412\n",
      "Epoch 47, CIFAR-10 Batch 5:  loss at 0.360423743724823 valid_acc at 0.6366000175476074\n",
      "Epoch 48, CIFAR-10 Batch 1:  loss at 0.4154616892337799 valid_acc at 0.6421999931335449\n",
      "Epoch 48, CIFAR-10 Batch 2:  loss at 0.3832809031009674 valid_acc at 0.6363999843597412\n",
      "Epoch 48, CIFAR-10 Batch 3:  loss at 0.3720586895942688 valid_acc at 0.6377999782562256\n",
      "Epoch 48, CIFAR-10 Batch 4:  loss at 0.37125957012176514 valid_acc at 0.6442000269889832\n",
      "Epoch 48, CIFAR-10 Batch 5:  loss at 0.3454250395298004 valid_acc at 0.6330000162124634\n",
      "Epoch 49, CIFAR-10 Batch 1:  loss at 0.4023837745189667 valid_acc at 0.6417999863624573\n",
      "Epoch 49, CIFAR-10 Batch 2:  loss at 0.36695072054862976 valid_acc at 0.6340000033378601\n",
      "Epoch 49, CIFAR-10 Batch 3:  loss at 0.3619621694087982 valid_acc at 0.6389999985694885\n",
      "Epoch 49, CIFAR-10 Batch 4:  loss at 0.36402344703674316 valid_acc at 0.6388000249862671\n",
      "Epoch 49, CIFAR-10 Batch 5:  loss at 0.35116446018218994 valid_acc at 0.6371999979019165\n",
      "Epoch 50, CIFAR-10 Batch 1:  loss at 0.3960341513156891 valid_acc at 0.6416000127792358\n",
      "Epoch 50, CIFAR-10 Batch 2:  loss at 0.34844866394996643 valid_acc at 0.633400022983551\n",
      "Epoch 50, CIFAR-10 Batch 3:  loss at 0.3488682806491852 valid_acc at 0.6394000053405762\n",
      "Epoch 50, CIFAR-10 Batch 4:  loss at 0.3522435128688812 valid_acc at 0.6388000249862671\n",
      "Epoch 50, CIFAR-10 Batch 5:  loss at 0.3381139039993286 valid_acc at 0.635200023651123\n",
      "Epoch 51, CIFAR-10 Batch 1:  loss at 0.3797178864479065 valid_acc at 0.6416000127792358\n",
      "Epoch 51, CIFAR-10 Batch 2:  loss at 0.35375210642814636 valid_acc at 0.6398000121116638\n",
      "Epoch 51, CIFAR-10 Batch 3:  loss at 0.35226401686668396 valid_acc at 0.6373999714851379\n",
      "Epoch 51, CIFAR-10 Batch 4:  loss at 0.3459011912345886 valid_acc at 0.6370000243186951\n",
      "Epoch 51, CIFAR-10 Batch 5:  loss at 0.33006751537323 valid_acc at 0.6345999836921692\n",
      "Epoch 52, CIFAR-10 Batch 1:  loss at 0.36879536509513855 valid_acc at 0.6442000269889832\n",
      "Epoch 52, CIFAR-10 Batch 2:  loss at 0.3558209538459778 valid_acc at 0.6373999714851379\n",
      "Epoch 52, CIFAR-10 Batch 3:  loss at 0.34243524074554443 valid_acc at 0.6384000182151794\n",
      "Epoch 52, CIFAR-10 Batch 4:  loss at 0.331717848777771 valid_acc at 0.628000020980835\n",
      "Epoch 52, CIFAR-10 Batch 5:  loss at 0.31488898396492004 valid_acc at 0.6385999917984009\n",
      "Epoch 53, CIFAR-10 Batch 1:  loss at 0.3722875118255615 valid_acc at 0.644599974155426\n",
      "Epoch 53, CIFAR-10 Batch 2:  loss at 0.333415150642395 valid_acc at 0.6399999856948853\n",
      "Epoch 53, CIFAR-10 Batch 3:  loss at 0.33865493535995483 valid_acc at 0.63919997215271\n",
      "Epoch 53, CIFAR-10 Batch 4:  loss at 0.3337196111679077 valid_acc at 0.6320000290870667\n",
      "Epoch 53, CIFAR-10 Batch 5:  loss at 0.3097197711467743 valid_acc at 0.6335999965667725\n",
      "Epoch 54, CIFAR-10 Batch 1:  loss at 0.3595433831214905 valid_acc at 0.6420000195503235\n",
      "Epoch 54, CIFAR-10 Batch 2:  loss at 0.33231687545776367 valid_acc at 0.6370000243186951\n",
      "Epoch 54, CIFAR-10 Batch 3:  loss at 0.3294453024864197 valid_acc at 0.6413999795913696\n",
      "Epoch 54, CIFAR-10 Batch 4:  loss at 0.3291046619415283 valid_acc at 0.6245999932289124\n",
      "Epoch 54, CIFAR-10 Batch 5:  loss at 0.2980155646800995 valid_acc at 0.6388000249862671\n",
      "Epoch 55, CIFAR-10 Batch 1:  loss at 0.36029839515686035 valid_acc at 0.6363999843597412\n",
      "Epoch 55, CIFAR-10 Batch 2:  loss at 0.3257475793361664 valid_acc at 0.6370000243186951\n",
      "Epoch 55, CIFAR-10 Batch 3:  loss at 0.3157445788383484 valid_acc at 0.6385999917984009\n",
      "Epoch 55, CIFAR-10 Batch 4:  loss at 0.3128381371498108 valid_acc at 0.6349999904632568\n",
      "Epoch 55, CIFAR-10 Batch 5:  loss at 0.2803693413734436 valid_acc at 0.6371999979019165\n",
      "Epoch 56, CIFAR-10 Batch 1:  loss at 0.33574238419532776 valid_acc at 0.6389999985694885\n",
      "Epoch 56, CIFAR-10 Batch 2:  loss at 0.30683526396751404 valid_acc at 0.6434000134468079\n",
      "Epoch 56, CIFAR-10 Batch 3:  loss at 0.3122059404850006 valid_acc at 0.6353999972343445\n",
      "Epoch 56, CIFAR-10 Batch 4:  loss at 0.29854536056518555 valid_acc at 0.633400022983551\n",
      "Epoch 56, CIFAR-10 Batch 5:  loss at 0.28234410285949707 valid_acc at 0.6363999843597412\n",
      "Epoch 57, CIFAR-10 Batch 1:  loss at 0.3355092704296112 valid_acc at 0.6373999714851379\n",
      "Epoch 57, CIFAR-10 Batch 2:  loss at 0.31411096453666687 valid_acc at 0.6431999802589417\n",
      "Epoch 57, CIFAR-10 Batch 3:  loss at 0.32406067848205566 valid_acc at 0.6363999843597412\n",
      "Epoch 57, CIFAR-10 Batch 4:  loss at 0.29379943013191223 valid_acc at 0.633400022983551\n",
      "Epoch 57, CIFAR-10 Batch 5:  loss at 0.27092233300209045 valid_acc at 0.6345999836921692\n",
      "Epoch 58, CIFAR-10 Batch 1:  loss at 0.3109312057495117 valid_acc at 0.6399999856948853\n",
      "Epoch 58, CIFAR-10 Batch 2:  loss at 0.30206093192100525 valid_acc at 0.6448000073432922\n",
      "Epoch 58, CIFAR-10 Batch 3:  loss at 0.3089408874511719 valid_acc at 0.6398000121116638\n",
      "Epoch 58, CIFAR-10 Batch 4:  loss at 0.2802533507347107 valid_acc at 0.6358000040054321\n",
      "Epoch 58, CIFAR-10 Batch 5:  loss at 0.259625107049942 valid_acc at 0.6402000188827515\n",
      "Epoch 59, CIFAR-10 Batch 1:  loss at 0.30741086602211 valid_acc at 0.6434000134468079\n",
      "Epoch 59, CIFAR-10 Batch 2:  loss at 0.28571563959121704 valid_acc at 0.6421999931335449\n",
      "Epoch 59, CIFAR-10 Batch 3:  loss at 0.28583770990371704 valid_acc at 0.6385999917984009\n",
      "Epoch 59, CIFAR-10 Batch 4:  loss at 0.27247926592826843 valid_acc at 0.6344000101089478\n",
      "Epoch 59, CIFAR-10 Batch 5:  loss at 0.2576983571052551 valid_acc at 0.633400022983551\n",
      "Epoch 60, CIFAR-10 Batch 1:  loss at 0.3013722598552704 valid_acc at 0.6430000066757202\n",
      "Epoch 60, CIFAR-10 Batch 2:  loss at 0.28801167011260986 valid_acc at 0.6389999985694885\n",
      "Epoch 60, CIFAR-10 Batch 3:  loss at 0.28098008036613464 valid_acc at 0.6366000175476074\n",
      "Epoch 60, CIFAR-10 Batch 4:  loss at 0.26143577694892883 valid_acc at 0.6366000175476074\n",
      "Epoch 60, CIFAR-10 Batch 5:  loss at 0.24758711457252502 valid_acc at 0.6363999843597412\n",
      "Epoch 61, CIFAR-10 Batch 1:  loss at 0.289907842874527 valid_acc at 0.6439999938011169\n",
      "Epoch 61, CIFAR-10 Batch 2:  loss at 0.28102266788482666 valid_acc at 0.6394000053405762\n",
      "Epoch 61, CIFAR-10 Batch 3:  loss at 0.2722183167934418 valid_acc at 0.6388000249862671\n",
      "Epoch 61, CIFAR-10 Batch 4:  loss at 0.2614717185497284 valid_acc at 0.6359999775886536\n",
      "Epoch 61, CIFAR-10 Batch 5:  loss at 0.23274779319763184 valid_acc at 0.6406000256538391\n",
      "Epoch 62, CIFAR-10 Batch 1:  loss at 0.28089118003845215 valid_acc at 0.642799973487854\n",
      "Epoch 62, CIFAR-10 Batch 2:  loss at 0.27162909507751465 valid_acc at 0.640999972820282\n",
      "Epoch 62, CIFAR-10 Batch 3:  loss at 0.25960126519203186 valid_acc at 0.6416000127792358\n",
      "Epoch 62, CIFAR-10 Batch 4:  loss at 0.25121617317199707 valid_acc at 0.6326000094413757\n",
      "Epoch 62, CIFAR-10 Batch 5:  loss at 0.22972941398620605 valid_acc at 0.6417999863624573\n",
      "Epoch 63, CIFAR-10 Batch 1:  loss at 0.27136391401290894 valid_acc at 0.6444000005722046\n",
      "Epoch 63, CIFAR-10 Batch 2:  loss at 0.2703905701637268 valid_acc at 0.6402000188827515\n",
      "Epoch 63, CIFAR-10 Batch 3:  loss at 0.2535715401172638 valid_acc at 0.6366000175476074\n",
      "Epoch 63, CIFAR-10 Batch 4:  loss at 0.244281604886055 valid_acc at 0.6359999775886536\n",
      "Epoch 63, CIFAR-10 Batch 5:  loss at 0.22210916876792908 valid_acc at 0.6424000263214111\n",
      "Epoch 64, CIFAR-10 Batch 1:  loss at 0.26954057812690735 valid_acc at 0.6448000073432922\n",
      "Epoch 64, CIFAR-10 Batch 2:  loss at 0.2519465982913971 valid_acc at 0.6384000182151794\n",
      "Epoch 64, CIFAR-10 Batch 3:  loss at 0.23871178925037384 valid_acc at 0.6452000141143799\n",
      "Epoch 64, CIFAR-10 Batch 4:  loss at 0.2314738780260086 valid_acc at 0.6358000040054321\n",
      "Epoch 64, CIFAR-10 Batch 5:  loss at 0.20545202493667603 valid_acc at 0.6420000195503235\n",
      "Epoch 65, CIFAR-10 Batch 1:  loss at 0.2576272189617157 valid_acc at 0.642799973487854\n",
      "Epoch 65, CIFAR-10 Batch 2:  loss at 0.24844729900360107 valid_acc at 0.6362000107765198\n",
      "Epoch 65, CIFAR-10 Batch 3:  loss at 0.23702387511730194 valid_acc at 0.6434000134468079\n",
      "Epoch 65, CIFAR-10 Batch 4:  loss at 0.2258647084236145 valid_acc at 0.6366000175476074\n",
      "Epoch 65, CIFAR-10 Batch 5:  loss at 0.2028466910123825 valid_acc at 0.6442000269889832\n",
      "Epoch 66, CIFAR-10 Batch 1:  loss at 0.2517447769641876 valid_acc at 0.642799973487854\n",
      "Epoch 66, CIFAR-10 Batch 2:  loss at 0.24052977561950684 valid_acc at 0.6398000121116638\n",
      "Epoch 66, CIFAR-10 Batch 3:  loss at 0.223949134349823 valid_acc at 0.6373999714851379\n",
      "Epoch 66, CIFAR-10 Batch 4:  loss at 0.2177809178829193 valid_acc at 0.63919997215271\n",
      "Epoch 66, CIFAR-10 Batch 5:  loss at 0.1983233094215393 valid_acc at 0.6452000141143799\n",
      "Epoch 67, CIFAR-10 Batch 1:  loss at 0.2375180870294571 valid_acc at 0.6456000208854675\n",
      "Epoch 67, CIFAR-10 Batch 2:  loss at 0.22896409034729004 valid_acc at 0.6345999836921692\n",
      "Epoch 67, CIFAR-10 Batch 3:  loss at 0.21682476997375488 valid_acc at 0.6389999985694885\n",
      "Epoch 67, CIFAR-10 Batch 4:  loss at 0.21361929178237915 valid_acc at 0.6353999972343445\n",
      "Epoch 67, CIFAR-10 Batch 5:  loss at 0.19320204854011536 valid_acc at 0.645799994468689\n",
      "Epoch 68, CIFAR-10 Batch 1:  loss at 0.23242999613285065 valid_acc at 0.6453999876976013\n",
      "Epoch 68, CIFAR-10 Batch 2:  loss at 0.22213594615459442 valid_acc at 0.6373999714851379\n",
      "Epoch 68, CIFAR-10 Batch 3:  loss at 0.2177407145500183 valid_acc at 0.6355999708175659\n",
      "Epoch 68, CIFAR-10 Batch 4:  loss at 0.20291708409786224 valid_acc at 0.6320000290870667\n",
      "Epoch 68, CIFAR-10 Batch 5:  loss at 0.18842889368534088 valid_acc at 0.6435999870300293\n",
      "Epoch 69, CIFAR-10 Batch 1:  loss at 0.22944463789463043 valid_acc at 0.6474000215530396\n",
      "Epoch 69, CIFAR-10 Batch 2:  loss at 0.222861185669899 valid_acc at 0.6304000020027161\n",
      "Epoch 69, CIFAR-10 Batch 3:  loss at 0.21074536442756653 valid_acc at 0.6421999931335449\n",
      "Epoch 69, CIFAR-10 Batch 4:  loss at 0.20200799405574799 valid_acc at 0.6348000168800354\n",
      "Epoch 69, CIFAR-10 Batch 5:  loss at 0.18498463928699493 valid_acc at 0.6417999863624573\n",
      "Epoch 70, CIFAR-10 Batch 1:  loss at 0.22462500631809235 valid_acc at 0.6462000012397766\n",
      "Epoch 70, CIFAR-10 Batch 2:  loss at 0.21326453983783722 valid_acc at 0.6341999769210815\n",
      "Epoch 70, CIFAR-10 Batch 3:  loss at 0.20059791207313538 valid_acc at 0.6403999924659729\n",
      "Epoch 70, CIFAR-10 Batch 4:  loss at 0.1943449229001999 valid_acc at 0.6312000155448914\n",
      "Epoch 70, CIFAR-10 Batch 5:  loss at 0.1764010190963745 valid_acc at 0.6434000134468079\n",
      "Epoch 71, CIFAR-10 Batch 1:  loss at 0.215165376663208 valid_acc at 0.6430000066757202\n",
      "Epoch 71, CIFAR-10 Batch 2:  loss at 0.19720856845378876 valid_acc at 0.6371999979019165\n",
      "Epoch 71, CIFAR-10 Batch 3:  loss at 0.19545409083366394 valid_acc at 0.6407999992370605\n",
      "Epoch 71, CIFAR-10 Batch 4:  loss at 0.19423499703407288 valid_acc at 0.6341999769210815\n",
      "Epoch 71, CIFAR-10 Batch 5:  loss at 0.17063382267951965 valid_acc at 0.6424000263214111\n",
      "Epoch 72, CIFAR-10 Batch 1:  loss at 0.20942559838294983 valid_acc at 0.6425999999046326\n",
      "Epoch 72, CIFAR-10 Batch 2:  loss at 0.19734373688697815 valid_acc at 0.6330000162124634\n",
      "Epoch 72, CIFAR-10 Batch 3:  loss at 0.19001474976539612 valid_acc at 0.6399999856948853\n",
      "Epoch 72, CIFAR-10 Batch 4:  loss at 0.18561406433582306 valid_acc at 0.633400022983551\n",
      "Epoch 72, CIFAR-10 Batch 5:  loss at 0.15995709598064423 valid_acc at 0.6435999870300293\n",
      "Epoch 73, CIFAR-10 Batch 1:  loss at 0.20996086299419403 valid_acc at 0.6424000263214111\n",
      "Epoch 73, CIFAR-10 Batch 2:  loss at 0.18770311772823334 valid_acc at 0.6345999836921692\n",
      "Epoch 73, CIFAR-10 Batch 3:  loss at 0.1808665245771408 valid_acc at 0.6377999782562256\n",
      "Epoch 73, CIFAR-10 Batch 4:  loss at 0.18123070895671844 valid_acc at 0.635200023651123\n",
      "Epoch 73, CIFAR-10 Batch 5:  loss at 0.15435683727264404 valid_acc at 0.6366000175476074\n",
      "Epoch 74, CIFAR-10 Batch 1:  loss at 0.19185298681259155 valid_acc at 0.6424000263214111\n",
      "Epoch 74, CIFAR-10 Batch 2:  loss at 0.1853901743888855 valid_acc at 0.6377999782562256\n",
      "Epoch 74, CIFAR-10 Batch 3:  loss at 0.18297310173511505 valid_acc at 0.6384000182151794\n",
      "Epoch 74, CIFAR-10 Batch 4:  loss at 0.17159348726272583 valid_acc at 0.6395999789237976\n",
      "Epoch 74, CIFAR-10 Batch 5:  loss at 0.15321879088878632 valid_acc at 0.6388000249862671\n",
      "Epoch 75, CIFAR-10 Batch 1:  loss at 0.191399484872818 valid_acc at 0.6388000249862671\n",
      "Epoch 75, CIFAR-10 Batch 2:  loss at 0.182443767786026 valid_acc at 0.6381999850273132\n",
      "Epoch 75, CIFAR-10 Batch 3:  loss at 0.1805584579706192 valid_acc at 0.646399974822998\n",
      "Epoch 75, CIFAR-10 Batch 4:  loss at 0.17078924179077148 valid_acc at 0.6394000053405762\n",
      "Epoch 75, CIFAR-10 Batch 5:  loss at 0.1496506631374359 valid_acc at 0.6403999924659729\n",
      "Epoch 76, CIFAR-10 Batch 1:  loss at 0.18373730778694153 valid_acc at 0.6373999714851379\n",
      "Epoch 76, CIFAR-10 Batch 2:  loss at 0.178961843252182 valid_acc at 0.6362000107765198\n",
      "Epoch 76, CIFAR-10 Batch 3:  loss at 0.1746681183576584 valid_acc at 0.6425999999046326\n",
      "Epoch 76, CIFAR-10 Batch 4:  loss at 0.16557928919792175 valid_acc at 0.6420000195503235\n",
      "Epoch 76, CIFAR-10 Batch 5:  loss at 0.1425672471523285 valid_acc at 0.6439999938011169\n",
      "Epoch 77, CIFAR-10 Batch 1:  loss at 0.18157705664634705 valid_acc at 0.6394000053405762\n",
      "Epoch 77, CIFAR-10 Batch 2:  loss at 0.17313510179519653 valid_acc at 0.6345999836921692\n",
      "Epoch 77, CIFAR-10 Batch 3:  loss at 0.16684092581272125 valid_acc at 0.6420000195503235\n",
      "Epoch 77, CIFAR-10 Batch 4:  loss at 0.15639634430408478 valid_acc at 0.6385999917984009\n",
      "Epoch 77, CIFAR-10 Batch 5:  loss at 0.14423510432243347 valid_acc at 0.6313999891281128\n",
      "Epoch 78, CIFAR-10 Batch 1:  loss at 0.17880092561244965 valid_acc at 0.6377999782562256\n",
      "Epoch 78, CIFAR-10 Batch 2:  loss at 0.16749481856822968 valid_acc at 0.6353999972343445\n",
      "Epoch 78, CIFAR-10 Batch 3:  loss at 0.168819859623909 valid_acc at 0.6421999931335449\n",
      "Epoch 78, CIFAR-10 Batch 4:  loss at 0.15543505549430847 valid_acc at 0.6385999917984009\n",
      "Epoch 78, CIFAR-10 Batch 5:  loss at 0.1342093050479889 valid_acc at 0.6407999992370605\n",
      "Epoch 79, CIFAR-10 Batch 1:  loss at 0.1772737056016922 valid_acc at 0.6363999843597412\n",
      "Epoch 79, CIFAR-10 Batch 2:  loss at 0.1632453203201294 valid_acc at 0.6353999972343445\n",
      "Epoch 79, CIFAR-10 Batch 3:  loss at 0.16301259398460388 valid_acc at 0.6430000066757202\n",
      "Epoch 79, CIFAR-10 Batch 4:  loss at 0.14708904922008514 valid_acc at 0.6394000053405762\n",
      "Epoch 79, CIFAR-10 Batch 5:  loss at 0.13451151549816132 valid_acc at 0.631600022315979\n",
      "Epoch 80, CIFAR-10 Batch 1:  loss at 0.1737985461950302 valid_acc at 0.6308000087738037\n",
      "Epoch 80, CIFAR-10 Batch 2:  loss at 0.15919607877731323 valid_acc at 0.635200023651123\n",
      "Epoch 80, CIFAR-10 Batch 3:  loss at 0.15372434258460999 valid_acc at 0.6406000256538391\n",
      "Epoch 80, CIFAR-10 Batch 4:  loss at 0.14817161858081818 valid_acc at 0.6376000046730042\n",
      "Epoch 80, CIFAR-10 Batch 5:  loss at 0.12796682119369507 valid_acc at 0.6376000046730042\n",
      "Epoch 81, CIFAR-10 Batch 1:  loss at 0.16849030554294586 valid_acc at 0.6313999891281128\n",
      "Epoch 81, CIFAR-10 Batch 2:  loss at 0.1565827876329422 valid_acc at 0.6355999708175659\n",
      "Epoch 81, CIFAR-10 Batch 3:  loss at 0.14932093024253845 valid_acc at 0.644599974155426\n",
      "Epoch 81, CIFAR-10 Batch 4:  loss at 0.14445708692073822 valid_acc at 0.6417999863624573\n",
      "Epoch 81, CIFAR-10 Batch 5:  loss at 0.1222560927271843 valid_acc at 0.6348000168800354\n",
      "Epoch 82, CIFAR-10 Batch 1:  loss at 0.16244344413280487 valid_acc at 0.6313999891281128\n",
      "Epoch 82, CIFAR-10 Batch 2:  loss at 0.14773878455162048 valid_acc at 0.6326000094413757\n",
      "Epoch 82, CIFAR-10 Batch 3:  loss at 0.14434696733951569 valid_acc at 0.6442000269889832\n",
      "Epoch 82, CIFAR-10 Batch 4:  loss at 0.13863113522529602 valid_acc at 0.6388000249862671\n",
      "Epoch 82, CIFAR-10 Batch 5:  loss at 0.12252701073884964 valid_acc at 0.6338000297546387\n",
      "Epoch 83, CIFAR-10 Batch 1:  loss at 0.1626383662223816 valid_acc at 0.6344000101089478\n",
      "Epoch 83, CIFAR-10 Batch 2:  loss at 0.14034724235534668 valid_acc at 0.6371999979019165\n",
      "Epoch 83, CIFAR-10 Batch 3:  loss at 0.1466631144285202 valid_acc at 0.6430000066757202\n",
      "Epoch 83, CIFAR-10 Batch 4:  loss at 0.13329795002937317 valid_acc at 0.6470000147819519\n",
      "Epoch 83, CIFAR-10 Batch 5:  loss at 0.12419696897268295 valid_acc at 0.6385999917984009\n",
      "Epoch 84, CIFAR-10 Batch 1:  loss at 0.1499430537223816 valid_acc at 0.6341999769210815\n",
      "Epoch 84, CIFAR-10 Batch 2:  loss at 0.13993465900421143 valid_acc at 0.6322000026702881\n",
      "Epoch 84, CIFAR-10 Batch 3:  loss at 0.1380697786808014 valid_acc at 0.6399999856948853\n",
      "Epoch 84, CIFAR-10 Batch 4:  loss at 0.13447371125221252 valid_acc at 0.640999972820282\n",
      "Epoch 84, CIFAR-10 Batch 5:  loss at 0.11440307646989822 valid_acc at 0.6398000121116638\n",
      "Epoch 85, CIFAR-10 Batch 1:  loss at 0.14570382237434387 valid_acc at 0.6330000162124634\n",
      "Epoch 85, CIFAR-10 Batch 2:  loss at 0.1376836746931076 valid_acc at 0.6367999911308289\n",
      "Epoch 85, CIFAR-10 Batch 3:  loss at 0.1359795331954956 valid_acc at 0.6395999789237976\n",
      "Epoch 85, CIFAR-10 Batch 4:  loss at 0.12415854632854462 valid_acc at 0.640999972820282\n",
      "Epoch 85, CIFAR-10 Batch 5:  loss at 0.1143030971288681 valid_acc at 0.6370000243186951\n",
      "Epoch 86, CIFAR-10 Batch 1:  loss at 0.1474071592092514 valid_acc at 0.6313999891281128\n",
      "Epoch 86, CIFAR-10 Batch 2:  loss at 0.1258242279291153 valid_acc at 0.63919997215271\n",
      "Epoch 86, CIFAR-10 Batch 3:  loss at 0.1304270476102829 valid_acc at 0.6434000134468079\n",
      "Epoch 86, CIFAR-10 Batch 4:  loss at 0.12322362512350082 valid_acc at 0.642799973487854\n",
      "Epoch 86, CIFAR-10 Batch 5:  loss at 0.11110976338386536 valid_acc at 0.6399999856948853\n",
      "Epoch 87, CIFAR-10 Batch 1:  loss at 0.14310865104198456 valid_acc at 0.6322000026702881\n",
      "Epoch 87, CIFAR-10 Batch 2:  loss at 0.1251506358385086 valid_acc at 0.6349999904632568\n",
      "Epoch 87, CIFAR-10 Batch 3:  loss at 0.12819865345954895 valid_acc at 0.6370000243186951\n",
      "Epoch 87, CIFAR-10 Batch 4:  loss at 0.11899623274803162 valid_acc at 0.6380000114440918\n",
      "Epoch 87, CIFAR-10 Batch 5:  loss at 0.10904500633478165 valid_acc at 0.6362000107765198\n",
      "Epoch 88, CIFAR-10 Batch 1:  loss at 0.13688604533672333 valid_acc at 0.6355999708175659\n",
      "Epoch 88, CIFAR-10 Batch 2:  loss at 0.11971013247966766 valid_acc at 0.6359999775886536\n",
      "Epoch 88, CIFAR-10 Batch 3:  loss at 0.12677311897277832 valid_acc at 0.6362000107765198\n",
      "Epoch 88, CIFAR-10 Batch 4:  loss at 0.12150835990905762 valid_acc at 0.6362000107765198\n",
      "Epoch 88, CIFAR-10 Batch 5:  loss at 0.10445933789014816 valid_acc at 0.6402000188827515\n",
      "Epoch 89, CIFAR-10 Batch 1:  loss at 0.13551220297813416 valid_acc at 0.6341999769210815\n",
      "Epoch 89, CIFAR-10 Batch 2:  loss at 0.11924629658460617 valid_acc at 0.6323999762535095\n",
      "Epoch 89, CIFAR-10 Batch 3:  loss at 0.13031113147735596 valid_acc at 0.6338000297546387\n",
      "Epoch 89, CIFAR-10 Batch 4:  loss at 0.11338475346565247 valid_acc at 0.6395999789237976\n",
      "Epoch 89, CIFAR-10 Batch 5:  loss at 0.10328485816717148 valid_acc at 0.6412000060081482\n",
      "Epoch 90, CIFAR-10 Batch 1:  loss at 0.12802422046661377 valid_acc at 0.6345999836921692\n",
      "Epoch 90, CIFAR-10 Batch 2:  loss at 0.10903701931238174 valid_acc at 0.6326000094413757\n",
      "Epoch 90, CIFAR-10 Batch 3:  loss at 0.12193572521209717 valid_acc at 0.6353999972343445\n",
      "Epoch 90, CIFAR-10 Batch 4:  loss at 0.11218602955341339 valid_acc at 0.6355999708175659\n",
      "Epoch 90, CIFAR-10 Batch 5:  loss at 0.10214421898126602 valid_acc at 0.6362000107765198\n",
      "Epoch 91, CIFAR-10 Batch 1:  loss at 0.1258658766746521 valid_acc at 0.6399999856948853\n",
      "Epoch 91, CIFAR-10 Batch 2:  loss at 0.11147959530353546 valid_acc at 0.6355999708175659\n",
      "Epoch 91, CIFAR-10 Batch 3:  loss at 0.11769478768110275 valid_acc at 0.6348000168800354\n",
      "Epoch 91, CIFAR-10 Batch 4:  loss at 0.10789404809474945 valid_acc at 0.6367999911308289\n",
      "Epoch 91, CIFAR-10 Batch 5:  loss at 0.10087259113788605 valid_acc at 0.6362000107765198\n",
      "Epoch 92, CIFAR-10 Batch 1:  loss at 0.12685047090053558 valid_acc at 0.6359999775886536\n",
      "Epoch 92, CIFAR-10 Batch 2:  loss at 0.10778655856847763 valid_acc at 0.6323999762535095\n",
      "Epoch 92, CIFAR-10 Batch 3:  loss at 0.11025389283895493 valid_acc at 0.6370000243186951\n",
      "Epoch 92, CIFAR-10 Batch 4:  loss at 0.10561161488294601 valid_acc at 0.6362000107765198\n",
      "Epoch 92, CIFAR-10 Batch 5:  loss at 0.10446725785732269 valid_acc at 0.6359999775886536\n",
      "Epoch 93, CIFAR-10 Batch 1:  loss at 0.1234326884150505 valid_acc at 0.6373999714851379\n",
      "Epoch 93, CIFAR-10 Batch 2:  loss at 0.10520900040864944 valid_acc at 0.6348000168800354\n",
      "Epoch 93, CIFAR-10 Batch 3:  loss at 0.10896039754152298 valid_acc at 0.6362000107765198\n",
      "Epoch 93, CIFAR-10 Batch 4:  loss at 0.10131531953811646 valid_acc at 0.6341999769210815\n",
      "Epoch 93, CIFAR-10 Batch 5:  loss at 0.09263389557600021 valid_acc at 0.6312000155448914\n",
      "Epoch 94, CIFAR-10 Batch 1:  loss at 0.1189330518245697 valid_acc at 0.6363999843597412\n",
      "Epoch 94, CIFAR-10 Batch 2:  loss at 0.10900484025478363 valid_acc at 0.628000020980835\n",
      "Epoch 94, CIFAR-10 Batch 3:  loss at 0.10969723016023636 valid_acc at 0.6388000249862671\n",
      "Epoch 94, CIFAR-10 Batch 4:  loss at 0.10037027299404144 valid_acc at 0.6367999911308289\n",
      "Epoch 94, CIFAR-10 Batch 5:  loss at 0.09615626186132431 valid_acc at 0.635200023651123\n",
      "Epoch 95, CIFAR-10 Batch 1:  loss at 0.12032705545425415 valid_acc at 0.6348000168800354\n",
      "Epoch 95, CIFAR-10 Batch 2:  loss at 0.09968924522399902 valid_acc at 0.6388000249862671\n",
      "Epoch 95, CIFAR-10 Batch 3:  loss at 0.09929647296667099 valid_acc at 0.6421999931335449\n",
      "Epoch 95, CIFAR-10 Batch 4:  loss at 0.0944494903087616 valid_acc at 0.6331999897956848\n",
      "Epoch 95, CIFAR-10 Batch 5:  loss at 0.0878562182188034 valid_acc at 0.6355999708175659\n",
      "Epoch 96, CIFAR-10 Batch 1:  loss at 0.11538158357143402 valid_acc at 0.6309999823570251\n",
      "Epoch 96, CIFAR-10 Batch 2:  loss at 0.09769661724567413 valid_acc at 0.6290000081062317\n",
      "Epoch 96, CIFAR-10 Batch 3:  loss at 0.09909804165363312 valid_acc at 0.6330000162124634\n",
      "Epoch 96, CIFAR-10 Batch 4:  loss at 0.09270361065864563 valid_acc at 0.6377999782562256\n",
      "Epoch 96, CIFAR-10 Batch 5:  loss at 0.0917801707983017 valid_acc at 0.6302000284194946\n",
      "Epoch 97, CIFAR-10 Batch 1:  loss at 0.1080915704369545 valid_acc at 0.6362000107765198\n",
      "Epoch 97, CIFAR-10 Batch 2:  loss at 0.0937926396727562 valid_acc at 0.6348000168800354\n",
      "Epoch 97, CIFAR-10 Batch 3:  loss at 0.09538112580776215 valid_acc at 0.6384000182151794\n",
      "Epoch 97, CIFAR-10 Batch 4:  loss at 0.09371604770421982 valid_acc at 0.6353999972343445\n",
      "Epoch 97, CIFAR-10 Batch 5:  loss at 0.08453601598739624 valid_acc at 0.63919997215271\n",
      "Epoch 98, CIFAR-10 Batch 1:  loss at 0.11129067838191986 valid_acc at 0.6295999884605408\n",
      "Epoch 98, CIFAR-10 Batch 2:  loss at 0.09274144470691681 valid_acc at 0.6330000162124634\n",
      "Epoch 98, CIFAR-10 Batch 3:  loss at 0.08854539692401886 valid_acc at 0.6353999972343445\n",
      "Epoch 98, CIFAR-10 Batch 4:  loss at 0.09436392039060593 valid_acc at 0.6371999979019165\n",
      "Epoch 98, CIFAR-10 Batch 5:  loss at 0.08829526603221893 valid_acc at 0.6376000046730042\n",
      "Epoch 99, CIFAR-10 Batch 1:  loss at 0.11282163858413696 valid_acc at 0.6331999897956848\n",
      "Epoch 99, CIFAR-10 Batch 2:  loss at 0.09259569644927979 valid_acc at 0.6313999891281128\n",
      "Epoch 99, CIFAR-10 Batch 3:  loss at 0.08843854069709778 valid_acc at 0.6349999904632568\n",
      "Epoch 99, CIFAR-10 Batch 4:  loss at 0.08710178732872009 valid_acc at 0.6380000114440918\n",
      "Epoch 99, CIFAR-10 Batch 5:  loss at 0.08368133008480072 valid_acc at 0.6313999891281128\n",
      "Epoch 100, CIFAR-10 Batch 1:  loss at 0.10538667440414429 valid_acc at 0.6309999823570251\n",
      "Epoch 100, CIFAR-10 Batch 2:  loss at 0.09022291004657745 valid_acc at 0.6322000026702881\n",
      "Epoch 100, CIFAR-10 Batch 3:  loss at 0.08803121745586395 valid_acc at 0.6330000162124634\n",
      "Epoch 100, CIFAR-10 Batch 4:  loss at 0.07883166521787643 valid_acc at 0.6345999836921692\n",
      "Epoch 100, CIFAR-10 Batch 5:  loss at 0.07991231977939606 valid_acc at 0.635200023651123\n"
     ]
    }
   ],
   "source": [
    "\"\"\"\n",
    "DON'T MODIFY ANYTHING IN THIS CELL\n",
    "\"\"\"\n",
    "save_model_path = './image_classification'\n",
    "\n",
    "print('Training...')\n",
    "with tf.Session() as sess:\n",
    "    # Initializing the variables\n",
    "    sess.run(tf.global_variables_initializer())\n",
    "    \n",
    "    # Training cycle\n",
    "    for epoch in range(epochs):\n",
    "        # Loop over all batches\n",
    "        n_batches = 5\n",
    "        for batch_i in range(1, n_batches + 1):\n",
    "            for batch_features, batch_labels in helper.load_preprocess_training_batch(batch_i, batch_size):\n",
    "                train_neural_network(sess, optimizer, keep_probability, batch_features, batch_labels)\n",
    "            print('Epoch {:>2}, CIFAR-10 Batch {}:  '.format(epoch + 1, batch_i), end='')\n",
    "            print_stats(sess, batch_features, batch_labels, cost, accuracy)\n",
    "            \n",
    "    # Save Model\n",
    "    saver = tf.train.Saver()\n",
    "    save_path = saver.save(sess, save_model_path)"
   ]
  },
  {
   "cell_type": "markdown",
   "metadata": {
    "deletable": true,
    "editable": true
   },
   "source": [
    "# Checkpoint\n",
    "The model has been saved to disk.\n",
    "## Test Model\n",
    "Test your model against the test dataset.  This will be your final accuracy. You should have an accuracy greater than 50%. If you don't, keep tweaking the model architecture and parameters."
   ]
  },
  {
   "cell_type": "code",
   "execution_count": 181,
   "metadata": {
    "collapsed": false,
    "deletable": true,
    "editable": true
   },
   "outputs": [
    {
     "name": "stdout",
     "output_type": "stream",
     "text": [
      "Testing Accuracy: 0.6343391239643097\n",
      "\n"
     ]
    },
    {
     "data": {
      "image/png": "[encoded data removed]",
      "text/plain": [
       "<matplotlib.figure.Figure at 0x20400467748>"
      ]
     },
     "metadata": {
      "image/png": {
       "height": 319,
       "width": 355
      }
     },
     "output_type": "display_data"
    }
   ],
   "source": [
    "\"\"\"\n",
    "DON'T MODIFY ANYTHING IN THIS CELL\n",
    "\"\"\"\n",
    "%matplotlib inline\n",
    "%config InlineBackend.figure_format = 'retina'\n",
    "\n",
    "import tensorflow as tf\n",
    "import pickle\n",
    "import helper\n",
    "import random\n",
    "\n",
    "# Set batch size if not already set\n",
    "try:\n",
    "    if batch_size:\n",
    "        pass\n",
    "except NameError:\n",
    "    batch_size = 64\n",
    "\n",
    "save_model_path = './image_classification'\n",
    "n_samples = 4\n",
    "top_n_predictions = 3\n",
    "\n",
    "def test_model():\n",
    "    \"\"\"\n",
    "    Test the saved model against the test dataset\n",
    "    \"\"\"\n",
    "\n",
    "    test_features, test_labels = pickle.load(open('preprocess_training.p', mode='rb'))\n",
    "    loaded_graph = tf.Graph()\n",
    "\n",
    "    with tf.Session(graph=loaded_graph) as sess:\n",
    "        # Load model\n",
    "        loader = tf.train.import_meta_graph(save_model_path + '.meta')\n",
    "        loader.restore(sess, save_model_path)\n",
    "\n",
    "        # Get Tensors from loaded model\n",
    "        loaded_x = loaded_graph.get_tensor_by_name('x:0')\n",
    "        loaded_y = loaded_graph.get_tensor_by_name('y:0')\n",
    "        loaded_keep_prob = loaded_graph.get_tensor_by_name('keep_prob:0')\n",
    "        loaded_logits = loaded_graph.get_tensor_by_name('logits:0')\n",
    "        loaded_acc = loaded_graph.get_tensor_by_name('accuracy:0')\n",
    "        \n",
    "        # Get accuracy in batches for memory limitations\n",
    "        test_batch_acc_total = 0\n",
    "        test_batch_count = 0\n",
    "        \n",
    "        for train_feature_batch, train_label_batch in helper.batch_features_labels(test_features, test_labels, batch_size):\n",
    "            test_batch_acc_total += sess.run(\n",
    "                loaded_acc,\n",
    "                feed_dict={loaded_x: train_feature_batch, loaded_y: train_label_batch, loaded_keep_prob: 1.0})\n",
    "            test_batch_count += 1\n",
    "\n",
    "        print('Testing Accuracy: {}\\n'.format(test_batch_acc_total/test_batch_count))\n",
    "\n",
    "        # Print Random Samples\n",
    "        random_test_features, random_test_labels = tuple(zip(*random.sample(list(zip(test_features, test_labels)), n_samples)))\n",
    "        random_test_predictions = sess.run(\n",
    "            tf.nn.top_k(tf.nn.softmax(loaded_logits), top_n_predictions),\n",
    "            feed_dict={loaded_x: random_test_features, loaded_y: random_test_labels, loaded_keep_prob: 1.0})\n",
    "        helper.display_image_predictions(random_test_features, random_test_labels, random_test_predictions)\n",
    "\n",
    "\n",
    "test_model()"
   ]
  },
  {
   "cell_type": "markdown",
   "metadata": {
    "deletable": true,
    "editable": true
   },
   "source": [
    "## Why 50-70% Accuracy?\n",
    "You might be wondering why you can't get an accuracy any higher. First things first, 50% isn't bad for a simple CNN.  Pure guessing would get you 10% accuracy. However, you might notice people are getting scores [well above 70%](http://rodrigob.github.io/are_we_there_yet/build/classification_datasets_results.html#43494641522d3130).  That's because we haven't taught you all there is to know about neural networks. We still need to cover a few more techniques.\n",
    "## Submitting This Project\n",
    "When submitting this project, make sure to run all the cells before saving the notebook.  Save the notebook file as \"dlnd_image_classification.ipynb\" and save it as a HTML file under \"File\" -> \"Download as\".  Include the \"helper.py\" and \"problem_unittests.py\" files in your submission."
   ]
  }
 ],
 "metadata": {
  "anaconda-cloud": {},
  "kernelspec": {
   "display_name": "Python 3",
   "language": "python",
   "name": "python3"
  },
  "language_info": {
   "codemirror_mode": {
    "name": "ipython",
    "version": 3
   },
   "file_extension": ".py",
   "mimetype": "text/x-python",
   "name": "python",
   "nbconvert_exporter": "python",
   "pygments_lexer": "ipython3",
   "version": "3.5.3"
  }
 },
 "nbformat": 4,
 "nbformat_minor": 0
}
